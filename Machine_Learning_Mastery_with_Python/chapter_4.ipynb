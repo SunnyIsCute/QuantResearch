{
  "nbformat": 4,
  "nbformat_minor": 0,
  "metadata": {
    "colab": {
      "provenance": []
    },
    "kernelspec": {
      "name": "python3",
      "display_name": "Python 3"
    },
    "language_info": {
      "name": "python"
    }
  },
  "cells": [
    {
      "cell_type": "markdown",
      "source": [
        "## Chapter 4 How To Load Machine Learning Data\n",
        "\n",
        "##### 1. Load CSV Files with the Python Standard Library"
      ],
      "metadata": {
        "id": "-MzveYvneB8a"
      }
    },
    {
      "cell_type": "code",
      "execution_count": 5,
      "metadata": {
        "colab": {
          "base_uri": "https://localhost:8080/"
        },
        "id": "nmWZ1GT9eAN1",
        "outputId": "1838fedb-4429-4ba5-846a-703329d2dab3"
      },
      "outputs": [
        {
          "output_type": "stream",
          "name": "stdout",
          "text": [
            "(768, 9)\n"
          ]
        }
      ],
      "source": [
        "# load CSV using Python standard library\n",
        "import csv\n",
        "import numpy as np\n",
        "filename = 'data/pima-indians-diabetes.data.csv'\n",
        "raw_data = open(filename, 'r')\n",
        "reader = csv.reader(raw_data, delimiter=',', quoting=csv.QUOTE_NONE)\n",
        "x = list(reader)\n",
        "data = np.array(x).astype(float)\n",
        "print(data.shape)"
      ]
    },
    {
      "cell_type": "markdown",
      "source": [
        "#### 2. Load CSV Files with NumPy"
      ],
      "metadata": {
        "id": "9tsu2UVogCcR"
      }
    },
    {
      "cell_type": "code",
      "source": [
        "# load CSV using NumPy\n",
        "import numpy as np\n",
        "filename = 'data/pima-indians-diabetes.data.csv'\n",
        "raw_data = open(filename, 'r')\n",
        "data = np.loadtxt(raw_data, delimiter=',')\n",
        "print(data.shape)"
      ],
      "metadata": {
        "colab": {
          "base_uri": "https://localhost:8080/"
        },
        "id": "GMvNwDNYfwdu",
        "outputId": "3fe90974-f5a2-4f44-820d-9c1768a5c82a"
      },
      "execution_count": 6,
      "outputs": [
        {
          "output_type": "stream",
          "name": "stdout",
          "text": [
            "(768, 9)\n"
          ]
        }
      ]
    },
    {
      "cell_type": "markdown",
      "source": [
        "#### 3. Load CSV Files with Pandas"
      ],
      "metadata": {
        "id": "Ph8C_DZmgVs_"
      }
    },
    {
      "cell_type": "code",
      "source": [
        "# load CSV using Pandas\n",
        "import pandas as pd\n",
        "filename = 'data/pima-indians-diabetes.data.csv'\n",
        "names = ['preg', 'plas', 'pres', 'skin', 'test', 'mass', 'pedi', 'age', 'class']\n",
        "data = pd.read_csv(filename, names=names)\n",
        "print(data.shape)"
      ],
      "metadata": {
        "colab": {
          "base_uri": "https://localhost:8080/"
        },
        "id": "Gl2eWTIcgT89",
        "outputId": "7be225c8-d091-42a1-ba64-74153f70ae75"
      },
      "execution_count": 7,
      "outputs": [
        {
          "output_type": "stream",
          "name": "stdout",
          "text": [
            "(768, 9)\n"
          ]
        }
      ]
    },
    {
      "cell_type": "code",
      "source": [
        "# Load CSV using Pandas from URL\n",
        "import pandas as pd\n",
        "url = 'https://goo.gl/vhm1eU'\n",
        "names = ['preg', 'plas', 'pres', 'skin', 'test', 'mass', 'pedi', 'age', 'class']\n",
        "data = pd.read_csv(filename, names=names)\n",
        "print(data.shape)"
      ],
      "metadata": {
        "colab": {
          "base_uri": "https://localhost:8080/"
        },
        "id": "doF9qscEgiED",
        "outputId": "de671509-ae36-45db-8099-1371b94e3993"
      },
      "execution_count": 9,
      "outputs": [
        {
          "output_type": "stream",
          "name": "stdout",
          "text": [
            "(768, 9)\n"
          ]
        }
      ]
    }
  ]
}