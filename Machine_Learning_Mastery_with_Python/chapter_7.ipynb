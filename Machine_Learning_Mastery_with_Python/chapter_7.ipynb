{
  "nbformat": 4,
  "nbformat_minor": 0,
  "metadata": {
    "colab": {
      "provenance": []
    },
    "kernelspec": {
      "name": "python3",
      "display_name": "Python 3"
    },
    "language_info": {
      "name": "python"
    }
  },
  "cells": [
    {
      "cell_type": "markdown",
      "source": [
        "## Chapter 7 Prepare Your Data For Machine Learning\n",
        "\n",
        "#### 1. Rescale Data\n",
        "\n",
        "When your data is comprised of attributes with varying scales, many machine learning algorithms can benefit from rescaling the attributes to all have the same scale. Often this is referred to as normalization and attributes are often rescaled into the range between 0 and 1. This is useful for optimization algorithms used in the core of machine learning algorithms like gradient\n",
        "descent. It is also useful for algorithms that weight inputs like regression and neural networks and algorithms that use distance measures like k-Nearest Neighbors."
      ],
      "metadata": {
        "id": "ire8tD4SPVA9"
      }
    },
    {
      "cell_type": "code",
      "execution_count": 6,
      "metadata": {
        "colab": {
          "base_uri": "https://localhost:8080/"
        },
        "id": "JPr1nk4ePTQ-",
        "outputId": "1d925838-d194-44c4-c980-674f458c852e"
      },
      "outputs": [
        {
          "output_type": "stream",
          "name": "stdout",
          "text": [
            "[[0.353 0.744 0.59  0.354 0.    0.501 0.234 0.483]\n",
            " [0.059 0.427 0.541 0.293 0.    0.396 0.117 0.167]\n",
            " [0.471 0.92  0.525 0.    0.    0.347 0.254 0.183]\n",
            " [0.059 0.447 0.541 0.232 0.111 0.419 0.038 0.   ]\n",
            " [0.    0.688 0.328 0.354 0.199 0.642 0.944 0.2  ]]\n"
          ]
        }
      ],
      "source": [
        "# rescale data (between 0 and 1)\n",
        "import pandas as pd\n",
        "import numpy as np\n",
        "from sklearn.preprocessing import MinMaxScaler\n",
        "\n",
        "filename = 'data/pima-indians-diabetes.data.csv'\n",
        "names = ['preg', 'plas', 'pres', 'skin', 'test', 'mass', 'pedi', 'age', 'class']\n",
        "dataframe = pd.read_csv(filename, names=names)\n",
        "array = dataframe.values\n",
        "# separate array into input and output components\n",
        "X = array[:,0:-1]\n",
        "Y = array[:,-1]\n",
        "scaler = MinMaxScaler(feature_range=(0, 1))\n",
        "rescaledX = scaler.fit_transform(X)\n",
        "# summarize transformed data\n",
        "np.set_printoptions(precision=3)\n",
        "print(rescaledX[0:5,:])"
      ]
    },
    {
      "cell_type": "markdown",
      "source": [
        "#### 2. Standardize Data\n",
        "\n",
        "Standardization is a useful technique to transform attributes with a Gaussian distribution and diﬀering means and standard deviations to a standard Gaussian distribution with a mean of 0 and a standard deviation of 1. It is most suitable for techniques that assume a Gaussian distribution in the input variables and work better with rescaled data, such as linear regression,\n",
        "logistic regression and linear discriminate analysis."
      ],
      "metadata": {
        "id": "tET3f3FEPyGO"
      }
    },
    {
      "cell_type": "code",
      "source": [
        "# standardize data (0 mean, 1 stdev)\n",
        "from sklearn.preprocessing import StandardScaler\n",
        "\n",
        "scaler = StandardScaler().fit(X)\n",
        "rescaledX = scaler.transform(X)\n",
        "# summarize transformed data\n",
        "np.set_printoptions(precision=3)\n",
        "print(rescaledX[0:5,:])"
      ],
      "metadata": {
        "colab": {
          "base_uri": "https://localhost:8080/"
        },
        "id": "HAHpmFmcP0EE",
        "outputId": "21503821-340c-4bc6-d073-5c8dafe7fb7b"
      },
      "execution_count": 7,
      "outputs": [
        {
          "output_type": "stream",
          "name": "stdout",
          "text": [
            "[[ 0.64   0.848  0.15   0.907 -0.693  0.204  0.468  1.426]\n",
            " [-0.845 -1.123 -0.161  0.531 -0.693 -0.684 -0.365 -0.191]\n",
            " [ 1.234  1.944 -0.264 -1.288 -0.693 -1.103  0.604 -0.106]\n",
            " [-0.845 -0.998 -0.161  0.155  0.123 -0.494 -0.921 -1.042]\n",
            " [-1.142  0.504 -1.505  0.907  0.766  1.41   5.485 -0.02 ]]\n"
          ]
        }
      ]
    },
    {
      "cell_type": "markdown",
      "source": [
        "#### 3. Normalize Data\n",
        "\n",
        "Normalizing in scikit-learn refers to rescaling each observation (row) to have a length of 1 (called a unit norm or a vector with the length of 1 in linear algebra). This pre-processing method can be useful for sparse datasets (lots of zeros) with attributes of varying scales when using algorithms that weight input values such as neural networks and algorithms that use distance\n",
        "measures such as k-Nearest Neighbors."
      ],
      "metadata": {
        "id": "QZRRlUvTP0YS"
      }
    },
    {
      "cell_type": "code",
      "source": [
        "# normalize data (length of 1)\n",
        "from sklearn.preprocessing import Normalizer\n",
        "\n",
        "scaler = Normalizer().fit(X)\n",
        "normalizedX = scaler.transform(X)\n",
        "# summarize transformed data\n",
        "np.set_printoptions(precision=3)\n",
        "print(normalizedX[0:5,:])"
      ],
      "metadata": {
        "colab": {
          "base_uri": "https://localhost:8080/"
        },
        "id": "apsTtNCeP2kF",
        "outputId": "93c9151f-9ee6-43ad-823c-0055b2daceb8"
      },
      "execution_count": 8,
      "outputs": [
        {
          "output_type": "stream",
          "name": "stdout",
          "text": [
            "[[0.034 0.828 0.403 0.196 0.    0.188 0.004 0.28 ]\n",
            " [0.008 0.716 0.556 0.244 0.    0.224 0.003 0.261]\n",
            " [0.04  0.924 0.323 0.    0.    0.118 0.003 0.162]\n",
            " [0.007 0.588 0.436 0.152 0.622 0.186 0.001 0.139]\n",
            " [0.    0.596 0.174 0.152 0.731 0.188 0.01  0.144]]\n"
          ]
        }
      ]
    },
    {
      "cell_type": "markdown",
      "source": [
        "The rows are normalized to length 1."
      ],
      "metadata": {
        "id": "fsKPFf7rVU3_"
      }
    },
    {
      "cell_type": "code",
      "source": [
        "for i in range(normalizedX.shape[0]):\n",
        "  row = normalizedX[i]\n",
        "  length = np.sqrt(np.sum([x ** 2 for x in row]))\n",
        "  assert np.abs(length - 1) < 1e-12"
      ],
      "metadata": {
        "id": "1rPa0bmGVpTr"
      },
      "execution_count": 13,
      "outputs": []
    },
    {
      "cell_type": "markdown",
      "source": [
        "#### 4. Binarize Data (Make Binary)\n",
        "\n",
        "You can transform your data using a binary threshold. All values above the threshold are marked 1 and all equal to or below are marked as 0. This is called binarizing your data or thresholding your data. It can be useful when you have probabilities that you want to make crisp values. It is also useful when feature engineering and you want to add new features that indicate\n",
        "something meaningful."
      ],
      "metadata": {
        "id": "lNhpbe1zP23Q"
      }
    },
    {
      "cell_type": "code",
      "source": [
        "# binarization\n",
        "from sklearn.preprocessing import Binarizer\n",
        "\n",
        "binarizer = Binarizer(threshold=0.0).fit(X)\n",
        "binaryX = binarizer.transform(X)\n",
        "# summarize transformed data\n",
        "np.set_printoptions(precision=3)\n",
        "print(binaryX[:5,:])"
      ],
      "metadata": {
        "colab": {
          "base_uri": "https://localhost:8080/"
        },
        "id": "mx36rXWcP4fv",
        "outputId": "147ed480-c904-4980-f81d-368a5d0a1620"
      },
      "execution_count": 15,
      "outputs": [
        {
          "output_type": "stream",
          "name": "stdout",
          "text": [
            "[[1. 1. 1. 1. 0. 1. 1. 1.]\n",
            " [1. 1. 1. 1. 0. 1. 1. 1.]\n",
            " [1. 1. 1. 0. 0. 1. 1. 1.]\n",
            " [1. 1. 1. 1. 1. 1. 1. 1.]\n",
            " [0. 1. 1. 1. 1. 1. 1. 1.]]\n"
          ]
        }
      ]
    }
  ]
}