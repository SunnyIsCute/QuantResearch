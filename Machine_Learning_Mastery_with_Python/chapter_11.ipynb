{
  "nbformat": 4,
  "nbformat_minor": 0,
  "metadata": {
    "colab": {
      "provenance": []
    },
    "kernelspec": {
      "name": "python3",
      "display_name": "Python 3"
    },
    "language_info": {
      "name": "python"
    }
  },
  "cells": [
    {
      "cell_type": "markdown",
      "source": [
        "## Chapter 11 Spot-Check Classification Algorithms\n",
        "\n",
        "You cannot know which algorithm will work best on your dataset beforehand. You must use trial and error to discover a shortlist of algorithms that do well on your problem that you can then double down on and tune further. I call this process spot-checking.\n",
        "\n"
      ],
      "metadata": {
        "id": "3oJc_1LSnDy4"
      }
    },
    {
      "cell_type": "code",
      "source": [
        "import pandas as pd\n",
        "import numpy as np\n",
        "from sklearn.model_selection import KFold, cross_val_score"
      ],
      "metadata": {
        "id": "kMZ6BoO9pJfV"
      },
      "execution_count": 1,
      "outputs": []
    },
    {
      "cell_type": "markdown",
      "source": [
        "#### 1. Linear Machine Learning Algorithms\n",
        "\n",
        "##### (1) Logistic Regression\n",
        "\n",
        "Logistic regression assumes a Gaussian distribution for the numeric input variables and can model *binary classification* problems."
      ],
      "metadata": {
        "id": "PMVOzSZEpKQq"
      }
    },
    {
      "cell_type": "code",
      "execution_count": 3,
      "metadata": {
        "colab": {
          "base_uri": "https://localhost:8080/"
        },
        "id": "UD8q_bn3nBgD",
        "outputId": "7ad064f4-099b-4a56-bb03-6825201bff62"
      },
      "outputs": [
        {
          "output_type": "stream",
          "name": "stdout",
          "text": [
            "0.7721633629528366\n"
          ]
        }
      ],
      "source": [
        "# logistic regression classification\n",
        "from sklearn.linear_model import LogisticRegression\n",
        "\n",
        "filename = 'data/pima-indians-diabetes.data.csv'\n",
        "names = ['preg', 'plas', 'pres', 'skin', 'test', 'mass', 'pedi', 'age', 'class']\n",
        "df = pd.read_csv(filename, names=names)\n",
        "array = df.values\n",
        "X = array[:,:-1]\n",
        "Y = array[:,-1]\n",
        "num_folds = 10\n",
        "kfold = KFold(n_splits=num_folds, shuffle=True, random_state=7)\n",
        "model = LogisticRegression(max_iter=200)\n",
        "results = cross_val_score(model, X, Y, cv=kfold)\n",
        "print(results.mean())"
      ]
    },
    {
      "cell_type": "markdown",
      "source": [
        "##### (2) Linear Discriminant Analysis\n",
        "\n",
        "Linear Discriminant Analysis or **LDA** is a statistical technique for *binary and multiclass classification*. It too assumes a Gaussian distribution for the numerical input variables."
      ],
      "metadata": {
        "id": "egqlmsb2olc0"
      }
    },
    {
      "cell_type": "code",
      "source": [
        "# LDA classification\n",
        "from sklearn.discriminant_analysis import LinearDiscriminantAnalysis\n",
        "\n",
        "num_folds = 10\n",
        "kfold = KFold(n_splits=num_folds, shuffle=True, random_state=7)\n",
        "model = LinearDiscriminantAnalysis()\n",
        "results = cross_val_score(model, X, Y, cv=kfold)\n",
        "print(results.mean())"
      ],
      "metadata": {
        "colab": {
          "base_uri": "https://localhost:8080/"
        },
        "id": "wyTjefAboocW",
        "outputId": "f88fc8d9-b9a0-49bf-998d-9a1ef3ef0ce1"
      },
      "execution_count": 4,
      "outputs": [
        {
          "output_type": "stream",
          "name": "stdout",
          "text": [
            "0.7669685577580315\n"
          ]
        }
      ]
    },
    {
      "cell_type": "markdown",
      "source": [
        "#### 2. Nonlinear Machine Learning Algorithms\n",
        "\n",
        "##### (1) k-Nearest Neighbors\n",
        "\n",
        "The k-Nearest Neighbors algorithm or **KNN** uses a distance metric to find the k most similar. instances in the training data for a new instance and takes the mean outcome of the neighbors as the prediction."
      ],
      "metadata": {
        "id": "qS8uWOeGoqPs"
      }
    },
    {
      "cell_type": "code",
      "source": [
        "# KNN classification\n",
        "from sklearn.neighbors import KNeighborsClassifier\n",
        "\n",
        "num_folds = 10\n",
        "kfold = KFold(n_splits=num_folds, shuffle=True, random_state=7)\n",
        "model = KNeighborsClassifier()\n",
        "results = cross_val_score(model, X, Y, cv=kfold)\n",
        "print(results.mean())"
      ],
      "metadata": {
        "colab": {
          "base_uri": "https://localhost:8080/"
        },
        "id": "xuATpAeuosy_",
        "outputId": "9753f7bd-4ae5-4c33-d41a-68bfa90959c8"
      },
      "execution_count": 5,
      "outputs": [
        {
          "output_type": "stream",
          "name": "stdout",
          "text": [
            "0.7109876965140123\n"
          ]
        }
      ]
    },
    {
      "cell_type": "markdown",
      "source": [
        "##### (2) Naive Bayes\n",
        "\n",
        "Naive Bayes calculates the probability of each class and the conditional probability of each class given each input value. These probabilities are estimated for new data and multiplied together, assuming that they are all independent (a simple or naive assumption). When working with real-valued data, a Gaussian distribution is assumed to easily estimate the probabilities for\n",
        "input variables using the Gaussian Probability Density Function."
      ],
      "metadata": {
        "id": "05I_EmvZowwm"
      }
    },
    {
      "cell_type": "code",
      "source": [
        "# Gaussian Naive Bayes classification\n",
        "from sklearn.naive_bayes import GaussianNB\n",
        "\n",
        "num_folds = 10\n",
        "kfold = KFold(n_splits=num_folds, shuffle=True, random_state=7)\n",
        "model = GaussianNB()\n",
        "results = cross_val_score(model, X, Y, cv=kfold)\n",
        "print(results.mean())"
      ],
      "metadata": {
        "colab": {
          "base_uri": "https://localhost:8080/"
        },
        "id": "zAVvr81Yoydo",
        "outputId": "f77cedbe-e0d9-4b4d-88fa-5d7b8e5d85f5"
      },
      "execution_count": 6,
      "outputs": [
        {
          "output_type": "stream",
          "name": "stdout",
          "text": [
            "0.7591421736158578\n"
          ]
        }
      ]
    },
    {
      "cell_type": "markdown",
      "source": [
        "(3) Classification and Regression Trees\n",
        "\n",
        "Classification and Regression Trees (**CART or just decision trees**) construct a binary tree from the training data. Split points are chosen greedily by evaluating each attribute and each value of each attribute in the training data in order to minimize a cost function (like the **Gini index**)."
      ],
      "metadata": {
        "id": "qdjyf7fdoy7Q"
      }
    },
    {
      "cell_type": "code",
      "source": [
        "# CART classification\n",
        "from sklearn.tree import DecisionTreeClassifier\n",
        "\n",
        "num_folds = 10\n",
        "kfold = KFold(n_splits=num_folds, shuffle=True, random_state=7)\n",
        "model = DecisionTreeClassifier()\n",
        "results = cross_val_score(model, X, Y, cv=kfold)\n",
        "print(results.mean())"
      ],
      "metadata": {
        "colab": {
          "base_uri": "https://localhost:8080/"
        },
        "id": "z23wuUYso1dR",
        "outputId": "4406e55e-f72e-4031-831e-43199bd3b54b"
      },
      "execution_count": 7,
      "outputs": [
        {
          "output_type": "stream",
          "name": "stdout",
          "text": [
            "0.6992993848257005\n"
          ]
        }
      ]
    },
    {
      "cell_type": "markdown",
      "source": [
        "##### (4) Support Vector Machines\n",
        "\n",
        "Support Vector Machines or **SVM** seek a line that best separates two classes. Those data instances that are closest to the line that best separates the classes are called support vectors and influence where the line is placed. SVM has been extended to support multiple classes.\n",
        "Of particular importance is the use of diﬀerent kernel functions via the kernel parameter.\n",
        "A powerful **Radial Basis Function** is used by default."
      ],
      "metadata": {
        "id": "IreOksGTo155"
      }
    },
    {
      "cell_type": "code",
      "source": [
        "# SVM classification\n",
        "from sklearn.svm import SVC\n",
        "\n",
        "num_folds = 10\n",
        "kfold = KFold(n_splits=num_folds, shuffle=True, random_state=7)\n",
        "model = SVC()\n",
        "results = cross_val_score(model, X, Y, cv=kfold)\n",
        "print(results.mean())"
      ],
      "metadata": {
        "colab": {
          "base_uri": "https://localhost:8080/"
        },
        "id": "Kyi4CKhno5Cx",
        "outputId": "0b3c4f82-1566-456d-ae0e-e6b806effe41"
      },
      "execution_count": 9,
      "outputs": [
        {
          "output_type": "stream",
          "name": "stdout",
          "text": [
            "0.760457963089542\n"
          ]
        }
      ]
    }
  ]
}