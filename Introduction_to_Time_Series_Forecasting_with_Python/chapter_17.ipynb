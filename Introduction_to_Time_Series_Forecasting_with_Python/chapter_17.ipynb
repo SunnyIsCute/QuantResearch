{
  "nbformat": 4,
  "nbformat_minor": 0,
  "metadata": {
    "colab": {
      "provenance": []
    },
    "kernelspec": {
      "name": "python3",
      "display_name": "Python 3"
    },
    "language_info": {
      "name": "python"
    }
  },
  "cells": [
    {
      "cell_type": "markdown",
      "source": [
        "## Chapter 17 Forecasting Performance Measures"
      ],
      "metadata": {
        "id": "uV0umEi9Dn_N"
      }
    },
    {
      "cell_type": "markdown",
      "source": [
        "#### Forecast Error (or Residual Forecast Error)\n",
        "\n",
        "*The forecast error is calculated as the expected value minus the predicted value*. This is called the residual error of the prediction:\n",
        "\n",
        "forecast_error = expected_value − predicted_value"
      ],
      "metadata": {
        "id": "ZB4iUMN7D5eo"
      }
    },
    {
      "cell_type": "code",
      "source": [
        "# calculate forecast error\n",
        "expected = [0.0, 0.5, 0.0, 0.5, 0.0]\n",
        "predictions = [0.2, 0.4, 0.1, 0.6, 0.2]\n",
        "forecast_errors = [expected[i] - predictions[i] for i in range(len(expected))]\n",
        "print(f'Forecast Errors: {forecast_errors}')"
      ],
      "metadata": {
        "colab": {
          "base_uri": "https://localhost:8080/"
        },
        "id": "JW05_ej1Dqd7",
        "outputId": "101f838c-9d4c-447c-ba49-3fe3d5729bd8"
      },
      "execution_count": 1,
      "outputs": [
        {
          "output_type": "stream",
          "name": "stdout",
          "text": [
            "Forecast Errors: [-0.2, 0.09999999999999998, -0.1, -0.09999999999999998, -0.2]\n"
          ]
        }
      ]
    },
    {
      "cell_type": "markdown",
      "source": [
        "#### Mean Forecast Error (or Forecast Bias)\n",
        "\n",
        "Mean forecast error is calculated as the average of the forecast error values: mean_forecast_error = mean(forecast_error).\n"
      ],
      "metadata": {
        "id": "7u1PMk7cFnBb"
      }
    },
    {
      "cell_type": "code",
      "source": [
        "# calculate mean forecast error\n",
        "expected = [0.0, 0.5, 0.0, 0.5, 0.0]\n",
        "predictions = [0.2, 0.4, 0.1, 0.6, 0.2]\n",
        "forecast_errors = [expected[i] - predictions[i] for i in range(len(expected))]\n",
        "mean_forecast_error = sum(forecast_errors) / len(expected)\n",
        "print(f'Bias: {mean_forecast_error}')"
      ],
      "metadata": {
        "colab": {
          "base_uri": "https://localhost:8080/"
        },
        "id": "e7rTug78FnjZ",
        "outputId": "c0b207d1-78ad-4c30-82f6-0e834ab57a69"
      },
      "execution_count": 3,
      "outputs": [
        {
          "output_type": "stream",
          "name": "stdout",
          "text": [
            "Bias: -0.1\n"
          ]
        }
      ]
    },
    {
      "cell_type": "markdown",
      "source": [
        "\n",
        "#### Mean Absolute Error\n",
        "\n",
        "The mean absolute error, or MAE is calculated as the average of the absolute forecast error values: mean_absolute_error = mean(abs(forecast_error))."
      ],
      "metadata": {
        "id": "cGaZkumJFqxR"
      }
    },
    {
      "cell_type": "code",
      "source": [
        "# calculate mean absolute error\n",
        "from sklearn.metrics import mean_absolute_error\n",
        "expected = [0.0, 0.5, 0.0, 0.5, 0.0]\n",
        "predictions = [0.2, 0.4, 0.1, 0.6, 0.2]\n",
        "mae = mean_absolute_error(expected, predictions)\n",
        "print(f'MAE: {mae}')"
      ],
      "metadata": {
        "colab": {
          "base_uri": "https://localhost:8080/"
        },
        "id": "F06u30ImFrNr",
        "outputId": "440d4bdc-7d09-4247-90de-1f7a35a67761"
      },
      "execution_count": 4,
      "outputs": [
        {
          "output_type": "stream",
          "name": "stdout",
          "text": [
            "MAE: 0.13999999999999999\n"
          ]
        }
      ]
    },
    {
      "cell_type": "markdown",
      "source": [
        "#### Mean Squared Error\n",
        "\n",
        "The mean squared error, or MSE, is calculated as the average of the squared forecast error values: mean_squared_error = mean(forecast_error$^2$).\n",
        "\n",
        "Squaring the forecast error values forces them to be positive; it also has the eﬀect of putting more weight on large errors. Very large or outlier forecast errors are squared, which in turn has the eﬀect of dragging the mean of the squared forecast errors out resulting in a larger mean squared error score. In eﬀect, the score gives worse performance to those models that make large wrong forecasts."
      ],
      "metadata": {
        "id": "YG0SXYsFGdOc"
      }
    },
    {
      "cell_type": "code",
      "source": [
        "# calculate mean squared error\n",
        "from sklearn.metrics import mean_squared_error\n",
        "expected = [0.0, 0.5, 0.0, 0.5, 0.0]\n",
        "predictions = [0.2, 0.4, 0.1, 0.6, 0.2]\n",
        "mse = mean_squared_error(expected, predictions)\n",
        "print(f'MSE: {mse}')"
      ],
      "metadata": {
        "colab": {
          "base_uri": "https://localhost:8080/"
        },
        "id": "2iyP1fNTGcic",
        "outputId": "90df4389-543f-4b41-e7a0-3bb7648cc5f6"
      },
      "execution_count": 5,
      "outputs": [
        {
          "output_type": "stream",
          "name": "stdout",
          "text": [
            "MSE: 0.022000000000000002\n"
          ]
        }
      ]
    },
    {
      "cell_type": "markdown",
      "source": [
        "#### Root Mean Squared Error\n",
        "\n",
        "The root mean squared error, or RMSE, is calculated as the square root of the mean squared errors."
      ],
      "metadata": {
        "id": "L6qQDI0iHCFu"
      }
    },
    {
      "cell_type": "code",
      "source": [
        "# calculate root mean squared error\n",
        "from sklearn.metrics import mean_squared_error\n",
        "import numpy as np\n",
        "expected = [0.0, 0.5, 0.0, 0.5, 0.0]\n",
        "predictions = [0.2, 0.4, 0.1, 0.6, 0.2]\n",
        "mse = mean_squared_error(expected, predictions)\n",
        "rmse = np.sqrt(mse)\n",
        "print(f'RMSE: {rmse}')"
      ],
      "metadata": {
        "colab": {
          "base_uri": "https://localhost:8080/"
        },
        "id": "qvRrrtl5GaBC",
        "outputId": "a0df40d4-2c0e-478a-a54a-ffa7d2aab051"
      },
      "execution_count": 6,
      "outputs": [
        {
          "output_type": "stream",
          "name": "stdout",
          "text": [
            "RMSE: 0.14832396974191325\n"
          ]
        }
      ]
    }
  ]
}