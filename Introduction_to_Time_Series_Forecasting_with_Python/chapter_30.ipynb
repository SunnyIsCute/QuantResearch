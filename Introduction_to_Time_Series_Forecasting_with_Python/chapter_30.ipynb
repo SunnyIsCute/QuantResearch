{
  "nbformat": 4,
  "nbformat_minor": 0,
  "metadata": {
    "colab": {
      "provenance": []
    },
    "kernelspec": {
      "name": "python3",
      "display_name": "Python 3"
    },
    "language_info": {
      "name": "python"
    }
  },
  "cells": [
    {
      "cell_type": "markdown",
      "source": [
        "## Chapter 30 Project: Monthly Armed Robberies in Boston\n",
        "\n",
        "### Overview\n",
        "1. Problem Description\n",
        "2. Test harness\n",
        "3. Persistence\n",
        "4. Data Analysis\n",
        "5. ARIMA Models\n",
        "6. Model Validation\n",
        "\n",
        "\n"
      ],
      "metadata": {
        "id": "Y_AIxANUSQo4"
      }
    },
    {
      "cell_type": "markdown",
      "source": [
        "#### 1. Problem Description\n",
        "\n",
        "The problem is to predict the number of monthly armed robberies in Boston, USA. The dataset provides the number of monthly armed robberies in Boston from January 1966 to October 1975, or just under 10 years of data. The values are a count and there are 118 observations. The dataset is credited to McCleary and Hay (1980).\n",
        "\n",
        "#### 2. Test Harness\n",
        "\n",
        "We must develop a test harness to investigate the data and evaluate candidate models. This involves two steps:\n",
        "1. Defining a Validation Dataset.\n",
        "2. Developing a Method for Model Evaluation.\n",
        "\n",
        "##### (1) Validation Dataset\n",
        "\n",
        "The dataset is not current. This means that we cannot easily collect updated data to validate the model. Therefore we will pretend that it is October 1974 and withhold the last one year of data from analysis and model selection. This final year of data will be used to validate the final model."
      ],
      "metadata": {
        "id": "lSqMhC4mS1fi"
      }
    },
    {
      "cell_type": "code",
      "source": [
        "import pandas as pd\n",
        "import numpy as np\n",
        "from sklearn.metrics import mean_squared_error\n",
        "import matplotlib.pyplot as plt"
      ],
      "metadata": {
        "id": "xIlbPycmT1pX"
      },
      "execution_count": 15,
      "outputs": []
    },
    {
      "cell_type": "code",
      "source": [
        "# load the dataset\n",
        "series = pd.read_csv('data/robberies.csv', index_col=0, parse_dates=True)\n",
        "series.head()"
      ],
      "metadata": {
        "colab": {
          "base_uri": "https://localhost:8080/",
          "height": 238
        },
        "id": "WrcB7soJT-vC",
        "outputId": "fe5f4c7e-e49c-448c-8334-f47e7a66f8b1"
      },
      "execution_count": 16,
      "outputs": [
        {
          "output_type": "execute_result",
          "data": {
            "text/plain": [
              "            Robberies\n",
              "Month                \n",
              "1966-01-01         41\n",
              "1966-02-01         39\n",
              "1966-03-01         50\n",
              "1966-04-01         40\n",
              "1966-05-01         43"
            ],
            "text/html": [
              "\n",
              "  <div id=\"df-b79ce907-abb0-4132-99fc-60c75e1eccea\" class=\"colab-df-container\">\n",
              "    <div>\n",
              "<style scoped>\n",
              "    .dataframe tbody tr th:only-of-type {\n",
              "        vertical-align: middle;\n",
              "    }\n",
              "\n",
              "    .dataframe tbody tr th {\n",
              "        vertical-align: top;\n",
              "    }\n",
              "\n",
              "    .dataframe thead th {\n",
              "        text-align: right;\n",
              "    }\n",
              "</style>\n",
              "<table border=\"1\" class=\"dataframe\">\n",
              "  <thead>\n",
              "    <tr style=\"text-align: right;\">\n",
              "      <th></th>\n",
              "      <th>Robberies</th>\n",
              "    </tr>\n",
              "    <tr>\n",
              "      <th>Month</th>\n",
              "      <th></th>\n",
              "    </tr>\n",
              "  </thead>\n",
              "  <tbody>\n",
              "    <tr>\n",
              "      <th>1966-01-01</th>\n",
              "      <td>41</td>\n",
              "    </tr>\n",
              "    <tr>\n",
              "      <th>1966-02-01</th>\n",
              "      <td>39</td>\n",
              "    </tr>\n",
              "    <tr>\n",
              "      <th>1966-03-01</th>\n",
              "      <td>50</td>\n",
              "    </tr>\n",
              "    <tr>\n",
              "      <th>1966-04-01</th>\n",
              "      <td>40</td>\n",
              "    </tr>\n",
              "    <tr>\n",
              "      <th>1966-05-01</th>\n",
              "      <td>43</td>\n",
              "    </tr>\n",
              "  </tbody>\n",
              "</table>\n",
              "</div>\n",
              "    <div class=\"colab-df-buttons\">\n",
              "\n",
              "  <div class=\"colab-df-container\">\n",
              "    <button class=\"colab-df-convert\" onclick=\"convertToInteractive('df-b79ce907-abb0-4132-99fc-60c75e1eccea')\"\n",
              "            title=\"Convert this dataframe to an interactive table.\"\n",
              "            style=\"display:none;\">\n",
              "\n",
              "  <svg xmlns=\"http://www.w3.org/2000/svg\" height=\"24px\" viewBox=\"0 -960 960 960\">\n",
              "    <path d=\"M120-120v-720h720v720H120Zm60-500h600v-160H180v160Zm220 220h160v-160H400v160Zm0 220h160v-160H400v160ZM180-400h160v-160H180v160Zm440 0h160v-160H620v160ZM180-180h160v-160H180v160Zm440 0h160v-160H620v160Z\"/>\n",
              "  </svg>\n",
              "    </button>\n",
              "\n",
              "  <style>\n",
              "    .colab-df-container {\n",
              "      display:flex;\n",
              "      gap: 12px;\n",
              "    }\n",
              "\n",
              "    .colab-df-convert {\n",
              "      background-color: #E8F0FE;\n",
              "      border: none;\n",
              "      border-radius: 50%;\n",
              "      cursor: pointer;\n",
              "      display: none;\n",
              "      fill: #1967D2;\n",
              "      height: 32px;\n",
              "      padding: 0 0 0 0;\n",
              "      width: 32px;\n",
              "    }\n",
              "\n",
              "    .colab-df-convert:hover {\n",
              "      background-color: #E2EBFA;\n",
              "      box-shadow: 0px 1px 2px rgba(60, 64, 67, 0.3), 0px 1px 3px 1px rgba(60, 64, 67, 0.15);\n",
              "      fill: #174EA6;\n",
              "    }\n",
              "\n",
              "    .colab-df-buttons div {\n",
              "      margin-bottom: 4px;\n",
              "    }\n",
              "\n",
              "    [theme=dark] .colab-df-convert {\n",
              "      background-color: #3B4455;\n",
              "      fill: #D2E3FC;\n",
              "    }\n",
              "\n",
              "    [theme=dark] .colab-df-convert:hover {\n",
              "      background-color: #434B5C;\n",
              "      box-shadow: 0px 1px 3px 1px rgba(0, 0, 0, 0.15);\n",
              "      filter: drop-shadow(0px 1px 2px rgba(0, 0, 0, 0.3));\n",
              "      fill: #FFFFFF;\n",
              "    }\n",
              "  </style>\n",
              "\n",
              "    <script>\n",
              "      const buttonEl =\n",
              "        document.querySelector('#df-b79ce907-abb0-4132-99fc-60c75e1eccea button.colab-df-convert');\n",
              "      buttonEl.style.display =\n",
              "        google.colab.kernel.accessAllowed ? 'block' : 'none';\n",
              "\n",
              "      async function convertToInteractive(key) {\n",
              "        const element = document.querySelector('#df-b79ce907-abb0-4132-99fc-60c75e1eccea');\n",
              "        const dataTable =\n",
              "          await google.colab.kernel.invokeFunction('convertToInteractive',\n",
              "                                                    [key], {});\n",
              "        if (!dataTable) return;\n",
              "\n",
              "        const docLinkHtml = 'Like what you see? Visit the ' +\n",
              "          '<a target=\"_blank\" href=https://colab.research.google.com/notebooks/data_table.ipynb>data table notebook</a>'\n",
              "          + ' to learn more about interactive tables.';\n",
              "        element.innerHTML = '';\n",
              "        dataTable['output_type'] = 'display_data';\n",
              "        await google.colab.output.renderOutput(dataTable, element);\n",
              "        const docLink = document.createElement('div');\n",
              "        docLink.innerHTML = docLinkHtml;\n",
              "        element.appendChild(docLink);\n",
              "      }\n",
              "    </script>\n",
              "  </div>\n",
              "\n",
              "\n",
              "    <div id=\"df-4ea7ad11-d028-4486-9104-89c7c2e33782\">\n",
              "      <button class=\"colab-df-quickchart\" onclick=\"quickchart('df-4ea7ad11-d028-4486-9104-89c7c2e33782')\"\n",
              "                title=\"Suggest charts\"\n",
              "                style=\"display:none;\">\n",
              "\n",
              "<svg xmlns=\"http://www.w3.org/2000/svg\" height=\"24px\"viewBox=\"0 0 24 24\"\n",
              "     width=\"24px\">\n",
              "    <g>\n",
              "        <path d=\"M19 3H5c-1.1 0-2 .9-2 2v14c0 1.1.9 2 2 2h14c1.1 0 2-.9 2-2V5c0-1.1-.9-2-2-2zM9 17H7v-7h2v7zm4 0h-2V7h2v10zm4 0h-2v-4h2v4z\"/>\n",
              "    </g>\n",
              "</svg>\n",
              "      </button>\n",
              "\n",
              "<style>\n",
              "  .colab-df-quickchart {\n",
              "      --bg-color: #E8F0FE;\n",
              "      --fill-color: #1967D2;\n",
              "      --hover-bg-color: #E2EBFA;\n",
              "      --hover-fill-color: #174EA6;\n",
              "      --disabled-fill-color: #AAA;\n",
              "      --disabled-bg-color: #DDD;\n",
              "  }\n",
              "\n",
              "  [theme=dark] .colab-df-quickchart {\n",
              "      --bg-color: #3B4455;\n",
              "      --fill-color: #D2E3FC;\n",
              "      --hover-bg-color: #434B5C;\n",
              "      --hover-fill-color: #FFFFFF;\n",
              "      --disabled-bg-color: #3B4455;\n",
              "      --disabled-fill-color: #666;\n",
              "  }\n",
              "\n",
              "  .colab-df-quickchart {\n",
              "    background-color: var(--bg-color);\n",
              "    border: none;\n",
              "    border-radius: 50%;\n",
              "    cursor: pointer;\n",
              "    display: none;\n",
              "    fill: var(--fill-color);\n",
              "    height: 32px;\n",
              "    padding: 0;\n",
              "    width: 32px;\n",
              "  }\n",
              "\n",
              "  .colab-df-quickchart:hover {\n",
              "    background-color: var(--hover-bg-color);\n",
              "    box-shadow: 0 1px 2px rgba(60, 64, 67, 0.3), 0 1px 3px 1px rgba(60, 64, 67, 0.15);\n",
              "    fill: var(--button-hover-fill-color);\n",
              "  }\n",
              "\n",
              "  .colab-df-quickchart-complete:disabled,\n",
              "  .colab-df-quickchart-complete:disabled:hover {\n",
              "    background-color: var(--disabled-bg-color);\n",
              "    fill: var(--disabled-fill-color);\n",
              "    box-shadow: none;\n",
              "  }\n",
              "\n",
              "  .colab-df-spinner {\n",
              "    border: 2px solid var(--fill-color);\n",
              "    border-color: transparent;\n",
              "    border-bottom-color: var(--fill-color);\n",
              "    animation:\n",
              "      spin 1s steps(1) infinite;\n",
              "  }\n",
              "\n",
              "  @keyframes spin {\n",
              "    0% {\n",
              "      border-color: transparent;\n",
              "      border-bottom-color: var(--fill-color);\n",
              "      border-left-color: var(--fill-color);\n",
              "    }\n",
              "    20% {\n",
              "      border-color: transparent;\n",
              "      border-left-color: var(--fill-color);\n",
              "      border-top-color: var(--fill-color);\n",
              "    }\n",
              "    30% {\n",
              "      border-color: transparent;\n",
              "      border-left-color: var(--fill-color);\n",
              "      border-top-color: var(--fill-color);\n",
              "      border-right-color: var(--fill-color);\n",
              "    }\n",
              "    40% {\n",
              "      border-color: transparent;\n",
              "      border-right-color: var(--fill-color);\n",
              "      border-top-color: var(--fill-color);\n",
              "    }\n",
              "    60% {\n",
              "      border-color: transparent;\n",
              "      border-right-color: var(--fill-color);\n",
              "    }\n",
              "    80% {\n",
              "      border-color: transparent;\n",
              "      border-right-color: var(--fill-color);\n",
              "      border-bottom-color: var(--fill-color);\n",
              "    }\n",
              "    90% {\n",
              "      border-color: transparent;\n",
              "      border-bottom-color: var(--fill-color);\n",
              "    }\n",
              "  }\n",
              "</style>\n",
              "\n",
              "      <script>\n",
              "        async function quickchart(key) {\n",
              "          const quickchartButtonEl =\n",
              "            document.querySelector('#' + key + ' button');\n",
              "          quickchartButtonEl.disabled = true;  // To prevent multiple clicks.\n",
              "          quickchartButtonEl.classList.add('colab-df-spinner');\n",
              "          try {\n",
              "            const charts = await google.colab.kernel.invokeFunction(\n",
              "                'suggestCharts', [key], {});\n",
              "          } catch (error) {\n",
              "            console.error('Error during call to suggestCharts:', error);\n",
              "          }\n",
              "          quickchartButtonEl.classList.remove('colab-df-spinner');\n",
              "          quickchartButtonEl.classList.add('colab-df-quickchart-complete');\n",
              "        }\n",
              "        (() => {\n",
              "          let quickchartButtonEl =\n",
              "            document.querySelector('#df-4ea7ad11-d028-4486-9104-89c7c2e33782 button');\n",
              "          quickchartButtonEl.style.display =\n",
              "            google.colab.kernel.accessAllowed ? 'block' : 'none';\n",
              "        })();\n",
              "      </script>\n",
              "    </div>\n",
              "\n",
              "    </div>\n",
              "  </div>\n"
            ],
            "application/vnd.google.colaboratory.intrinsic+json": {
              "type": "dataframe",
              "variable_name": "series",
              "summary": "{\n  \"name\": \"series\",\n  \"rows\": 118,\n  \"fields\": [\n    {\n      \"column\": \"Month\",\n      \"properties\": {\n        \"dtype\": \"date\",\n        \"min\": \"1966-01-01 00:00:00\",\n        \"max\": \"1975-10-01 00:00:00\",\n        \"num_unique_values\": 118,\n        \"samples\": [\n          \"1970-09-01 00:00:00\",\n          \"1973-06-01 00:00:00\",\n          \"1966-05-01 00:00:00\"\n        ],\n        \"semantic_type\": \"\",\n        \"description\": \"\"\n      }\n    },\n    {\n      \"column\": \"Robberies\",\n      \"properties\": {\n        \"dtype\": \"number\",\n        \"std\": 128,\n        \"min\": 29,\n        \"max\": 500,\n        \"num_unique_values\": 101,\n        \"samples\": [\n          243,\n          184,\n          246\n        ],\n        \"semantic_type\": \"\",\n        \"description\": \"\"\n      }\n    }\n  ]\n}"
            }
          },
          "metadata": {},
          "execution_count": 16
        }
      ]
    },
    {
      "cell_type": "code",
      "execution_count": 17,
      "metadata": {
        "colab": {
          "base_uri": "https://localhost:8080/"
        },
        "id": "A6r-LARfRzFA",
        "outputId": "37d0ae68-a167-4422-ddd1-f3c41e287967"
      },
      "outputs": [
        {
          "output_type": "stream",
          "name": "stdout",
          "text": [
            "Dataset 106, Validation 12\n"
          ]
        }
      ],
      "source": [
        "# split into a training and validation dataset\n",
        "split_point = len(series) - 12\n",
        "dataset, validation = series[:split_point], series[split_point:]\n",
        "print(f'Dataset {len(dataset)}, Validation {len(validation)}')\n",
        "dataset.to_csv('dataset.csv')\n",
        "validation.to_csv('validation.csv')"
      ]
    },
    {
      "cell_type": "markdown",
      "source": [
        "##### (2) Model Evaluation\n",
        "\n",
        "Model evaluation will only be performed on the data in dataset.csv prepared in the previous section. Model evaluation involves two elements:\n",
        "1. Performance Measure: The observations are a count of robberies. We will evaluate the performance of predictions using the root mean squared error (RMSE).\n",
        "2. Test Strategy: Candidate models will be evaluated using walk-forward validation.\n",
        "\n",
        "The walk-forward validation will work as follows:\n",
        "1. The first 50% of the dataset will be held back to train the model.\n",
        "2. The remaining 50% of the dataset will be iterated and test the model.\n",
        "3. For each step in the test dataset:\n",
        "  - (a) A model will be trained.\n",
        "  - (b) A one-step prediction made and the prediction stored for later evaluation.\n",
        "  - (c) The actual observation from the test dataset will be added to the training dataset for the next iteration.\n",
        "4. The predictions made during the iteration of the test dataset will be evaluated and an RMSE score reported.\n",
        "\n",
        "#### 3. Persistence\n",
        "\n",
        "The first step before getting bogged down in data analysis and modeling is to establish a baseline of performance. This will provide both a template for evaluating models using the proposed\n",
        "test harness and a performance measure by which all more elaborate predictive models can be compared. The baseline prediction for time series forecasting is called the *naive forecast, or persistence*. This is where the observation from the previous time step is used as the prediction for the observation at the next time step."
      ],
      "metadata": {
        "id": "qZ7I0glcU-gz"
      }
    },
    {
      "cell_type": "code",
      "source": [
        "# evaluate a persistence model\n",
        "# load data\n",
        "series = pd.read_csv('dataset.csv', index_col=0, parse_dates=True)\n",
        "# prepare data\n",
        "X = series['Robberies'].astype(float).values\n",
        "train_size = int(len(X) * 0.50)\n",
        "train, test = X[:train_size], X[train_size:]\n",
        "# walk-forward validation\n",
        "history = [x for x in train]\n",
        "predictions = list()\n",
        "for i in range(len(test)):\n",
        "  # predict\n",
        "  yhat = history[-1]\n",
        "  predictions.append(yhat)\n",
        "  # observation\n",
        "  obs = test[i]\n",
        "  history.append(obs)\n",
        "  print(f'>Predicted={yhat:.3f}, Expected={obs:.3f}')\n",
        "# report performance\n",
        "rmse = np.sqrt(mean_squared_error(test, predictions))\n",
        "print(f'RMSE: {rmse:.3f}')"
      ],
      "metadata": {
        "colab": {
          "base_uri": "https://localhost:8080/"
        },
        "id": "wHjI6-oqUYba",
        "outputId": "52f914b6-fbeb-412e-ae80-4d917bf051d5"
      },
      "execution_count": 18,
      "outputs": [
        {
          "output_type": "stream",
          "name": "stdout",
          "text": [
            ">Predicted=98.000, Expected=125.000\n",
            ">Predicted=125.000, Expected=155.000\n",
            ">Predicted=155.000, Expected=190.000\n",
            ">Predicted=190.000, Expected=236.000\n",
            ">Predicted=236.000, Expected=189.000\n",
            ">Predicted=189.000, Expected=174.000\n",
            ">Predicted=174.000, Expected=178.000\n",
            ">Predicted=178.000, Expected=136.000\n",
            ">Predicted=136.000, Expected=161.000\n",
            ">Predicted=161.000, Expected=171.000\n",
            ">Predicted=171.000, Expected=149.000\n",
            ">Predicted=149.000, Expected=184.000\n",
            ">Predicted=184.000, Expected=155.000\n",
            ">Predicted=155.000, Expected=276.000\n",
            ">Predicted=276.000, Expected=224.000\n",
            ">Predicted=224.000, Expected=213.000\n",
            ">Predicted=213.000, Expected=279.000\n",
            ">Predicted=279.000, Expected=268.000\n",
            ">Predicted=268.000, Expected=287.000\n",
            ">Predicted=287.000, Expected=238.000\n",
            ">Predicted=238.000, Expected=213.000\n",
            ">Predicted=213.000, Expected=257.000\n",
            ">Predicted=257.000, Expected=293.000\n",
            ">Predicted=293.000, Expected=212.000\n",
            ">Predicted=212.000, Expected=246.000\n",
            ">Predicted=246.000, Expected=353.000\n",
            ">Predicted=353.000, Expected=339.000\n",
            ">Predicted=339.000, Expected=308.000\n",
            ">Predicted=308.000, Expected=247.000\n",
            ">Predicted=247.000, Expected=257.000\n",
            ">Predicted=257.000, Expected=322.000\n",
            ">Predicted=322.000, Expected=298.000\n",
            ">Predicted=298.000, Expected=273.000\n",
            ">Predicted=273.000, Expected=312.000\n",
            ">Predicted=312.000, Expected=249.000\n",
            ">Predicted=249.000, Expected=286.000\n",
            ">Predicted=286.000, Expected=279.000\n",
            ">Predicted=279.000, Expected=309.000\n",
            ">Predicted=309.000, Expected=401.000\n",
            ">Predicted=401.000, Expected=309.000\n",
            ">Predicted=309.000, Expected=328.000\n",
            ">Predicted=328.000, Expected=353.000\n",
            ">Predicted=353.000, Expected=354.000\n",
            ">Predicted=354.000, Expected=327.000\n",
            ">Predicted=327.000, Expected=324.000\n",
            ">Predicted=324.000, Expected=285.000\n",
            ">Predicted=285.000, Expected=243.000\n",
            ">Predicted=243.000, Expected=241.000\n",
            ">Predicted=241.000, Expected=287.000\n",
            ">Predicted=287.000, Expected=355.000\n",
            ">Predicted=355.000, Expected=460.000\n",
            ">Predicted=460.000, Expected=364.000\n",
            ">Predicted=364.000, Expected=487.000\n",
            "RMSE: 51.844\n"
          ]
        }
      ]
    },
    {
      "cell_type": "markdown",
      "source": [
        "#### 4. Data Analysis\n",
        "\n",
        "##### (1) Summary Statistics"
      ],
      "metadata": {
        "id": "Uou8zK_k__7a"
      }
    },
    {
      "cell_type": "code",
      "source": [
        "# summary statistics of time series\n",
        "series = pd.read_csv('dataset.csv', index_col=0, parse_dates=True)\n",
        "series.describe()"
      ],
      "metadata": {
        "colab": {
          "base_uri": "https://localhost:8080/",
          "height": 300
        },
        "id": "KpNt166yT9Bj",
        "outputId": "1e4bae2e-5bc2-4c71-dfa0-c4a844ca7c3b"
      },
      "execution_count": 19,
      "outputs": [
        {
          "output_type": "execute_result",
          "data": {
            "text/plain": [
              "        Robberies\n",
              "count  106.000000\n",
              "mean   173.103774\n",
              "std    112.231133\n",
              "min     29.000000\n",
              "25%     74.750000\n",
              "50%    144.500000\n",
              "75%    271.750000\n",
              "max    487.000000"
            ],
            "text/html": [
              "\n",
              "  <div id=\"df-b61c0397-2306-4ba7-8d0e-d14c951b8879\" class=\"colab-df-container\">\n",
              "    <div>\n",
              "<style scoped>\n",
              "    .dataframe tbody tr th:only-of-type {\n",
              "        vertical-align: middle;\n",
              "    }\n",
              "\n",
              "    .dataframe tbody tr th {\n",
              "        vertical-align: top;\n",
              "    }\n",
              "\n",
              "    .dataframe thead th {\n",
              "        text-align: right;\n",
              "    }\n",
              "</style>\n",
              "<table border=\"1\" class=\"dataframe\">\n",
              "  <thead>\n",
              "    <tr style=\"text-align: right;\">\n",
              "      <th></th>\n",
              "      <th>Robberies</th>\n",
              "    </tr>\n",
              "  </thead>\n",
              "  <tbody>\n",
              "    <tr>\n",
              "      <th>count</th>\n",
              "      <td>106.000000</td>\n",
              "    </tr>\n",
              "    <tr>\n",
              "      <th>mean</th>\n",
              "      <td>173.103774</td>\n",
              "    </tr>\n",
              "    <tr>\n",
              "      <th>std</th>\n",
              "      <td>112.231133</td>\n",
              "    </tr>\n",
              "    <tr>\n",
              "      <th>min</th>\n",
              "      <td>29.000000</td>\n",
              "    </tr>\n",
              "    <tr>\n",
              "      <th>25%</th>\n",
              "      <td>74.750000</td>\n",
              "    </tr>\n",
              "    <tr>\n",
              "      <th>50%</th>\n",
              "      <td>144.500000</td>\n",
              "    </tr>\n",
              "    <tr>\n",
              "      <th>75%</th>\n",
              "      <td>271.750000</td>\n",
              "    </tr>\n",
              "    <tr>\n",
              "      <th>max</th>\n",
              "      <td>487.000000</td>\n",
              "    </tr>\n",
              "  </tbody>\n",
              "</table>\n",
              "</div>\n",
              "    <div class=\"colab-df-buttons\">\n",
              "\n",
              "  <div class=\"colab-df-container\">\n",
              "    <button class=\"colab-df-convert\" onclick=\"convertToInteractive('df-b61c0397-2306-4ba7-8d0e-d14c951b8879')\"\n",
              "            title=\"Convert this dataframe to an interactive table.\"\n",
              "            style=\"display:none;\">\n",
              "\n",
              "  <svg xmlns=\"http://www.w3.org/2000/svg\" height=\"24px\" viewBox=\"0 -960 960 960\">\n",
              "    <path d=\"M120-120v-720h720v720H120Zm60-500h600v-160H180v160Zm220 220h160v-160H400v160Zm0 220h160v-160H400v160ZM180-400h160v-160H180v160Zm440 0h160v-160H620v160ZM180-180h160v-160H180v160Zm440 0h160v-160H620v160Z\"/>\n",
              "  </svg>\n",
              "    </button>\n",
              "\n",
              "  <style>\n",
              "    .colab-df-container {\n",
              "      display:flex;\n",
              "      gap: 12px;\n",
              "    }\n",
              "\n",
              "    .colab-df-convert {\n",
              "      background-color: #E8F0FE;\n",
              "      border: none;\n",
              "      border-radius: 50%;\n",
              "      cursor: pointer;\n",
              "      display: none;\n",
              "      fill: #1967D2;\n",
              "      height: 32px;\n",
              "      padding: 0 0 0 0;\n",
              "      width: 32px;\n",
              "    }\n",
              "\n",
              "    .colab-df-convert:hover {\n",
              "      background-color: #E2EBFA;\n",
              "      box-shadow: 0px 1px 2px rgba(60, 64, 67, 0.3), 0px 1px 3px 1px rgba(60, 64, 67, 0.15);\n",
              "      fill: #174EA6;\n",
              "    }\n",
              "\n",
              "    .colab-df-buttons div {\n",
              "      margin-bottom: 4px;\n",
              "    }\n",
              "\n",
              "    [theme=dark] .colab-df-convert {\n",
              "      background-color: #3B4455;\n",
              "      fill: #D2E3FC;\n",
              "    }\n",
              "\n",
              "    [theme=dark] .colab-df-convert:hover {\n",
              "      background-color: #434B5C;\n",
              "      box-shadow: 0px 1px 3px 1px rgba(0, 0, 0, 0.15);\n",
              "      filter: drop-shadow(0px 1px 2px rgba(0, 0, 0, 0.3));\n",
              "      fill: #FFFFFF;\n",
              "    }\n",
              "  </style>\n",
              "\n",
              "    <script>\n",
              "      const buttonEl =\n",
              "        document.querySelector('#df-b61c0397-2306-4ba7-8d0e-d14c951b8879 button.colab-df-convert');\n",
              "      buttonEl.style.display =\n",
              "        google.colab.kernel.accessAllowed ? 'block' : 'none';\n",
              "\n",
              "      async function convertToInteractive(key) {\n",
              "        const element = document.querySelector('#df-b61c0397-2306-4ba7-8d0e-d14c951b8879');\n",
              "        const dataTable =\n",
              "          await google.colab.kernel.invokeFunction('convertToInteractive',\n",
              "                                                    [key], {});\n",
              "        if (!dataTable) return;\n",
              "\n",
              "        const docLinkHtml = 'Like what you see? Visit the ' +\n",
              "          '<a target=\"_blank\" href=https://colab.research.google.com/notebooks/data_table.ipynb>data table notebook</a>'\n",
              "          + ' to learn more about interactive tables.';\n",
              "        element.innerHTML = '';\n",
              "        dataTable['output_type'] = 'display_data';\n",
              "        await google.colab.output.renderOutput(dataTable, element);\n",
              "        const docLink = document.createElement('div');\n",
              "        docLink.innerHTML = docLinkHtml;\n",
              "        element.appendChild(docLink);\n",
              "      }\n",
              "    </script>\n",
              "  </div>\n",
              "\n",
              "\n",
              "    <div id=\"df-a7b1d713-b04f-40bf-86d0-96bc7915823e\">\n",
              "      <button class=\"colab-df-quickchart\" onclick=\"quickchart('df-a7b1d713-b04f-40bf-86d0-96bc7915823e')\"\n",
              "                title=\"Suggest charts\"\n",
              "                style=\"display:none;\">\n",
              "\n",
              "<svg xmlns=\"http://www.w3.org/2000/svg\" height=\"24px\"viewBox=\"0 0 24 24\"\n",
              "     width=\"24px\">\n",
              "    <g>\n",
              "        <path d=\"M19 3H5c-1.1 0-2 .9-2 2v14c0 1.1.9 2 2 2h14c1.1 0 2-.9 2-2V5c0-1.1-.9-2-2-2zM9 17H7v-7h2v7zm4 0h-2V7h2v10zm4 0h-2v-4h2v4z\"/>\n",
              "    </g>\n",
              "</svg>\n",
              "      </button>\n",
              "\n",
              "<style>\n",
              "  .colab-df-quickchart {\n",
              "      --bg-color: #E8F0FE;\n",
              "      --fill-color: #1967D2;\n",
              "      --hover-bg-color: #E2EBFA;\n",
              "      --hover-fill-color: #174EA6;\n",
              "      --disabled-fill-color: #AAA;\n",
              "      --disabled-bg-color: #DDD;\n",
              "  }\n",
              "\n",
              "  [theme=dark] .colab-df-quickchart {\n",
              "      --bg-color: #3B4455;\n",
              "      --fill-color: #D2E3FC;\n",
              "      --hover-bg-color: #434B5C;\n",
              "      --hover-fill-color: #FFFFFF;\n",
              "      --disabled-bg-color: #3B4455;\n",
              "      --disabled-fill-color: #666;\n",
              "  }\n",
              "\n",
              "  .colab-df-quickchart {\n",
              "    background-color: var(--bg-color);\n",
              "    border: none;\n",
              "    border-radius: 50%;\n",
              "    cursor: pointer;\n",
              "    display: none;\n",
              "    fill: var(--fill-color);\n",
              "    height: 32px;\n",
              "    padding: 0;\n",
              "    width: 32px;\n",
              "  }\n",
              "\n",
              "  .colab-df-quickchart:hover {\n",
              "    background-color: var(--hover-bg-color);\n",
              "    box-shadow: 0 1px 2px rgba(60, 64, 67, 0.3), 0 1px 3px 1px rgba(60, 64, 67, 0.15);\n",
              "    fill: var(--button-hover-fill-color);\n",
              "  }\n",
              "\n",
              "  .colab-df-quickchart-complete:disabled,\n",
              "  .colab-df-quickchart-complete:disabled:hover {\n",
              "    background-color: var(--disabled-bg-color);\n",
              "    fill: var(--disabled-fill-color);\n",
              "    box-shadow: none;\n",
              "  }\n",
              "\n",
              "  .colab-df-spinner {\n",
              "    border: 2px solid var(--fill-color);\n",
              "    border-color: transparent;\n",
              "    border-bottom-color: var(--fill-color);\n",
              "    animation:\n",
              "      spin 1s steps(1) infinite;\n",
              "  }\n",
              "\n",
              "  @keyframes spin {\n",
              "    0% {\n",
              "      border-color: transparent;\n",
              "      border-bottom-color: var(--fill-color);\n",
              "      border-left-color: var(--fill-color);\n",
              "    }\n",
              "    20% {\n",
              "      border-color: transparent;\n",
              "      border-left-color: var(--fill-color);\n",
              "      border-top-color: var(--fill-color);\n",
              "    }\n",
              "    30% {\n",
              "      border-color: transparent;\n",
              "      border-left-color: var(--fill-color);\n",
              "      border-top-color: var(--fill-color);\n",
              "      border-right-color: var(--fill-color);\n",
              "    }\n",
              "    40% {\n",
              "      border-color: transparent;\n",
              "      border-right-color: var(--fill-color);\n",
              "      border-top-color: var(--fill-color);\n",
              "    }\n",
              "    60% {\n",
              "      border-color: transparent;\n",
              "      border-right-color: var(--fill-color);\n",
              "    }\n",
              "    80% {\n",
              "      border-color: transparent;\n",
              "      border-right-color: var(--fill-color);\n",
              "      border-bottom-color: var(--fill-color);\n",
              "    }\n",
              "    90% {\n",
              "      border-color: transparent;\n",
              "      border-bottom-color: var(--fill-color);\n",
              "    }\n",
              "  }\n",
              "</style>\n",
              "\n",
              "      <script>\n",
              "        async function quickchart(key) {\n",
              "          const quickchartButtonEl =\n",
              "            document.querySelector('#' + key + ' button');\n",
              "          quickchartButtonEl.disabled = true;  // To prevent multiple clicks.\n",
              "          quickchartButtonEl.classList.add('colab-df-spinner');\n",
              "          try {\n",
              "            const charts = await google.colab.kernel.invokeFunction(\n",
              "                'suggestCharts', [key], {});\n",
              "          } catch (error) {\n",
              "            console.error('Error during call to suggestCharts:', error);\n",
              "          }\n",
              "          quickchartButtonEl.classList.remove('colab-df-spinner');\n",
              "          quickchartButtonEl.classList.add('colab-df-quickchart-complete');\n",
              "        }\n",
              "        (() => {\n",
              "          let quickchartButtonEl =\n",
              "            document.querySelector('#df-a7b1d713-b04f-40bf-86d0-96bc7915823e button');\n",
              "          quickchartButtonEl.style.display =\n",
              "            google.colab.kernel.accessAllowed ? 'block' : 'none';\n",
              "        })();\n",
              "      </script>\n",
              "    </div>\n",
              "\n",
              "    </div>\n",
              "  </div>\n"
            ],
            "application/vnd.google.colaboratory.intrinsic+json": {
              "type": "dataframe",
              "summary": "{\n  \"name\": \"series\",\n  \"rows\": 8,\n  \"fields\": [\n    {\n      \"column\": \"Robberies\",\n      \"properties\": {\n        \"dtype\": \"number\",\n        \"std\": 145.26087604568121,\n        \"min\": 29.0,\n        \"max\": 487.0,\n        \"num_unique_values\": 8,\n        \"samples\": [\n          173.10377358490567,\n          144.5,\n          106.0\n        ],\n        \"semantic_type\": \"\",\n        \"description\": \"\"\n      }\n    }\n  ]\n}"
            }
          },
          "metadata": {},
          "execution_count": 19
        }
      ]
    },
    {
      "cell_type": "markdown",
      "source": [
        "The large spread in this series will likely make highly accurate predictions diﬃcult if it is caused by random fluctuation (e.g. not systematic).\n",
        "\n",
        "##### (2) Line Plot"
      ],
      "metadata": {
        "id": "kKL0rkKWAlKI"
      }
    },
    {
      "cell_type": "code",
      "source": [
        "series.plot()\n",
        "plt.show()"
      ],
      "metadata": {
        "colab": {
          "base_uri": "https://localhost:8080/",
          "height": 449
        },
        "id": "yfXzN8DrAbqR",
        "outputId": "dc1f34a8-5e96-4dc5-88e2-840d93894e99"
      },
      "execution_count": 20,
      "outputs": [
        {
          "output_type": "display_data",
          "data": {
            "text/plain": [
              "<Figure size 640x480 with 1 Axes>"
            ],
            "image/png": "[encoded data removed]"
          },
          "metadata": {}
        }
      ]
    },
    {
      "cell_type": "markdown",
      "source": [
        "Some observations from the plot include:\n",
        "- There is an increasing trend of robberies over time.\n",
        "- There do not appear to be any obvious outliers.\n",
        "- There are relatively large fluctuations from year to year, up and down.\n",
        "- The fluctuations at later years appear larger than fluctuations at earlier years.\n",
        "- The trend means the dataset is almost certainly non-stationary and the apparent change in fluctuation may also contribute.\n",
        "\n",
        "These simple observations suggest we may see benefit in modeling the trend and removing it from the time series. Alternately, we could use diﬀerencing to make the series stationary for modeling. We may even need two levels of diﬀerencing if there is a growth trend in the\n",
        "fluctuations in later years.\n",
        "\n",
        "##### (3) Density Plot"
      ],
      "metadata": {
        "id": "vziifOfFA9uU"
      }
    },
    {
      "cell_type": "code",
      "source": [
        "# density plots of time series\n",
        "series.hist()\n",
        "plt.show()"
      ],
      "metadata": {
        "colab": {
          "base_uri": "https://localhost:8080/",
          "height": 452
        },
        "id": "Cr4F2jOGAwjm",
        "outputId": "10f82d79-8a4e-44e9-bf7b-5c6abd7dbb01"
      },
      "execution_count": 21,
      "outputs": [
        {
          "output_type": "display_data",
          "data": {
            "text/plain": [
              "<Figure size 640x480 with 1 Axes>"
            ],
            "image/png": "[encoded data removed]"
          },
          "metadata": {}
        }
      ]
    },
    {
      "cell_type": "code",
      "source": [
        "series.plot(kind='kde')\n",
        "plt.show()"
      ],
      "metadata": {
        "colab": {
          "base_uri": "https://localhost:8080/",
          "height": 430
        },
        "id": "17ewUUm7CWKk",
        "outputId": "d0f38fe0-eea9-4d19-c27e-a35b2e307fe6"
      },
      "execution_count": 22,
      "outputs": [
        {
          "output_type": "display_data",
          "data": {
            "text/plain": [
              "<Figure size 640x480 with 1 Axes>"
            ],
            "image/png": "[encoded data removed]"
          },
          "metadata": {}
        }
      ]
    },
    {
      "cell_type": "markdown",
      "source": [
        "Some observations from the plots include:\n",
        "- The distribution is not Gaussian.\n",
        "- The distribution is left shifted and may be exponential or a double Gaussian.\n",
        "\n",
        "We may see some benefit in exploring some power transforms of the data prior to modeling.\n",
        "\n",
        "##### (3) Box and Whisker Plots\n",
        "\n"
      ],
      "metadata": {
        "id": "lkUdYeSDDU4Z"
      }
    },
    {
      "cell_type": "code",
      "source": [
        "# boxplots of time series\n",
        "df = pd.read_csv('dataset.csv')\n",
        "df['Month'] = pd.to_datetime(df['Month'])\n",
        "df['Year'] = df['Month'].dt.year\n",
        "groups = df.groupby('Year')\n",
        "years = pd.DataFrame()\n",
        "for name, group in groups:\n",
        "  if name != 1974:\n",
        "    years[name] = group['Robberies'].values\n",
        "years.boxplot()\n",
        "plt.show()"
      ],
      "metadata": {
        "colab": {
          "base_uri": "https://localhost:8080/",
          "height": 430
        },
        "id": "GDoSmsqCDRUB",
        "outputId": "83f2ccff-8ceb-45d4-a5c4-6d7965a88297"
      },
      "execution_count": 23,
      "outputs": [
        {
          "output_type": "display_data",
          "data": {
            "text/plain": [
              "<Figure size 640x480 with 1 Axes>"
            ],
            "image/png": "[encoded data removed]"
          },
          "metadata": {}
        }
      ]
    },
    {
      "cell_type": "markdown",
      "source": [
        "Some observations from reviewing the plot include:\n",
        "- The median values for each year show a trend that may not be linear.\n",
        "- The spread, or middle 50% of the data differ but perhaps not consistently over time.\n",
        "- The earlier years, perhaps first 2, are quite different from the rest of the dataset.\n",
        "\n",
        "The observations suggest that the year-to-year fluctuations may not be systematic and hard to model. They also suggest that there may be some benefit in clipping the first two years of data from modeling if it is indeed quite diﬀerent. This yearly view of the data is an interesting avenue and could be pursued further by looking at summary statistics from year-to-year and changes in summary stats from year-to-year."
      ],
      "metadata": {
        "id": "WjHM4Xa8n8G3"
      }
    },
    {
      "cell_type": "markdown",
      "source": [
        "#### 5. ARIMA Models\n",
        "\n",
        "##### (1) Manually Configured ARIMA\n",
        "\n",
        "Nonseasonal ARIMA(p,d,q) requires three parameters and is traditionally configured manually.\n",
        "*Analysis of the time series data assumes that we are working with a stationary time series*. The time series is almost certainly non-stationary. We can make it stationary by first diﬀerencing\n",
        "the series and using a statistical test to confirm that the result is stationary."
      ],
      "metadata": {
        "id": "tbSCkT2EouKR"
      }
    },
    {
      "cell_type": "code",
      "source": [
        "# statistical test for the stationarity of the time series\n",
        "from statsmodels.tsa.stattools import adfuller\n",
        "\n",
        "# create a differenced time series\n",
        "def difference(dataset):\n",
        "  diff = list()\n",
        "  for i in range(1, len(dataset)):\n",
        "    value = dataset[i] - dataset[i-1]\n",
        "    diff.append(value)\n",
        "  return pd.Series(diff)\n",
        "\n",
        "series = pd.read_csv('dataset.csv', index_col=0, parse_dates=True)\n",
        "X = series['Robberies'].values\n",
        "# difference data\n",
        "stationary = difference(X)\n",
        "stationary.index = series.index[1:]\n",
        "\n",
        "# Check if stationary\n",
        "result = adfuller(stationary)\n",
        "print(f'ADF Statistic: {result[0]}')\n",
        "print(f'p-value: {result[1]}')\n",
        "print('Critical Values:')\n",
        "for key, value in result[4].items():\n",
        "  print(f'\\t ({key}, {value:.3f})')"
      ],
      "metadata": {
        "colab": {
          "base_uri": "https://localhost:8080/"
        },
        "id": "m07DtAhlnBPK",
        "outputId": "b0697375-0ded-4bed-c3f2-a2c6c0ec6eb9"
      },
      "execution_count": 24,
      "outputs": [
        {
          "output_type": "stream",
          "name": "stdout",
          "text": [
            "ADF Statistic: -3.980946303861115\n",
            "p-value: 0.0015136348242122516\n",
            "Critical Values:\n",
            "\t (1%, -3.503)\n",
            "\t (5%, -2.893)\n",
            "\t (10%, -2.584)\n"
          ]
        }
      ]
    },
    {
      "cell_type": "markdown",
      "source": [
        "The results show that the test statistic value -3.98 is smaller than the critical value at 1% of -3.503. This suggests that we can reject the null hypothesis with a significance level of less than 1%.\n",
        "Rejecting the null hypothesis means that the process has no unit root, and in turn that the 1-lag diﬀerenced time series is stationary or does not have time-dependent structure.\n",
        "\n",
        "This suggests that at least one level of diﬀerencing is required. The d parameter in our ARIMA model should at least be a value of 1. The next step is to select the lag values for the Autoregression (AR) and Moving Average (MA) parameters, p and q respectively. We can\n",
        "do this by reviewing Autocorrelation Function (ACF) and Partial Autocorrelation Function (PACF) plots."
      ],
      "metadata": {
        "id": "N5s6pjl5qUWc"
      }
    },
    {
      "cell_type": "code",
      "source": [
        "# ACF and PACF plots of time series\n",
        "from statsmodels.graphics.tsaplots import plot_acf, plot_pacf\n",
        "series = pd.read_csv('dataset.csv', index_col=0, parse_dates=True)\n",
        "plt.figure()\n",
        "plt.subplot(211)\n",
        "plot_acf(series, lags=50, ax=plt.gca())\n",
        "plt.subplot(212)\n",
        "plot_pacf(series, lags=50, ax=plt.gca())\n",
        "plt.show()"
      ],
      "metadata": {
        "colab": {
          "base_uri": "https://localhost:8080/",
          "height": 452
        },
        "id": "IKkt-qFdiG1c",
        "outputId": "954dde81-969b-4024-c92a-cb26c8042140"
      },
      "execution_count": 25,
      "outputs": [
        {
          "output_type": "display_data",
          "data": {
            "text/plain": [
              "<Figure size 640x480 with 2 Axes>"
            ],
            "image/png": "[encoded data removed]"
          },
          "metadata": {}
        }
      ]
    },
    {
      "cell_type": "markdown",
      "source": [
        "Some observations from the plots are:\n",
        "- The ACF shows a significant lag for 10-11 months.\n",
        "- The PACF shows a significant lag for perhaps 2 months.\n",
        "\n",
        "A good starting point for the p and q values are 11 and 2.\n",
        "\n",
        "This quick analysis suggests an ARIMA(11,1,2) on the raw data may be a good starting point. Experimentation shows that this configuration of ARIMA does not converge and results in errors by the underlying library, as do similarly large AR values. Some experimentation shows\n",
        "that the model does not appear to be stable, with non-zero AR and MA orders defined at the same time. The model can be simplified to ARIMA(0,1,2).\n",
        "\n",
        "Below demonstrates the performance of this ARIMA model on the test harness."
      ],
      "metadata": {
        "id": "-eOjJh4x8Pb9"
      }
    },
    {
      "cell_type": "code",
      "source": [
        "# evalute manually configured ARIMA model\n",
        "from sklearn.metrics import mean_squared_error\n",
        "from statsmodels.tsa.arima.model import ARIMA\n",
        "# load data\n",
        "series = pd.read_csv('dataset.csv', index_col=0, parse_dates=True)\n",
        "# prepare data\n",
        "X = series['Robberies'].astype(float).values\n",
        "train_size = int(len(X) * 0.50)\n",
        "train, test = X[:train_size], X[train_size:]\n",
        "# walk-forward validation\n",
        "history = [x for x in train]\n",
        "predictions = list()\n",
        "for i in range(len(test)):\n",
        "  # predict\n",
        "  model = ARIMA(history, order=(0,1,2))\n",
        "  model_fit = model.fit()\n",
        "  yhat = model_fit.forecast()[0]\n",
        "  predictions.append(yhat)\n",
        "  # observation\n",
        "  obs = test[i]\n",
        "  history.append(obs)\n",
        "  print(f'>Predicted={yhat:.3f}, Expected={obs:.3f}')\n",
        "# report performance\n",
        "rmse = np.sqrt(mean_squared_error(test, predictions))\n",
        "print(f'RMSE: {rmse:.3f}')"
      ],
      "metadata": {
        "colab": {
          "base_uri": "https://localhost:8080/"
        },
        "id": "DxHuXLpPlxfd",
        "outputId": "072ece5c-a2cb-4e98-e84c-724eec14b0ae"
      },
      "execution_count": 26,
      "outputs": [
        {
          "output_type": "stream",
          "name": "stdout",
          "text": [
            ">Predicted=99.923, Expected=125.000\n",
            ">Predicted=116.442, Expected=155.000\n",
            ">Predicted=139.962, Expected=190.000\n",
            ">Predicted=176.933, Expected=236.000\n",
            ">Predicted=232.851, Expected=189.000\n",
            ">Predicted=184.697, Expected=174.000\n",
            ">Predicted=180.705, Expected=178.000\n",
            ">Predicted=179.873, Expected=136.000\n",
            ">Predicted=141.098, Expected=161.000\n",
            ">Predicted=166.173, Expected=171.000\n",
            ">Predicted=167.005, Expected=149.000\n",
            ">Predicted=150.656, Expected=184.000\n",
            ">Predicted=182.314, Expected=155.000\n",
            ">Predicted=154.213, Expected=276.000\n",
            ">Predicted=245.214, Expected=224.000\n",
            ">Predicted=225.902, Expected=213.000\n",
            ">Predicted=216.867, Expected=279.000\n",
            ">Predicted=258.698, Expected=268.000\n",
            ">Predicted=263.377, Expected=287.000\n",
            ">Predicted=279.945, Expected=238.000\n",
            ">Predicted=251.485, Expected=213.000\n",
            ">Predicted=226.574, Expected=257.000\n",
            ">Predicted=249.690, Expected=293.000\n",
            ">Predicted=277.211, Expected=212.000\n",
            ">Predicted=230.020, Expected=246.000\n",
            ">Predicted=245.786, Expected=353.000\n",
            ">Predicted=317.992, Expected=339.000\n",
            ">Predicted=313.734, Expected=308.000\n",
            ">Predicted=305.556, Expected=247.000\n",
            ">Predicted=263.416, Expected=257.000\n",
            ">Predicted=272.428, Expected=322.000\n",
            ">Predicted=310.225, Expected=298.000\n",
            ">Predicted=288.644, Expected=273.000\n",
            ">Predicted=280.371, Expected=312.000\n",
            ">Predicted=307.468, Expected=249.000\n",
            ">Predicted=258.441, Expected=286.000\n",
            ">Predicted=290.435, Expected=279.000\n",
            ">Predicted=277.177, Expected=309.000\n",
            ">Predicted=300.385, Expected=401.000\n",
            ">Predicted=364.303, Expected=309.000\n",
            ">Predicted=303.538, Expected=328.000\n",
            ">Predicted=329.717, Expected=353.000\n",
            ">Predicted=340.448, Expected=354.000\n",
            ">Predicted=344.714, Expected=327.000\n",
            ">Predicted=330.507, Expected=324.000\n",
            ">Predicted=329.881, Expected=285.000\n",
            ">Predicted=302.318, Expected=243.000\n",
            ">Predicted=272.020, Expected=241.000\n",
            ">Predicted=262.933, Expected=287.000\n",
            ">Predicted=286.898, Expected=355.000\n",
            ">Predicted=329.367, Expected=460.000\n",
            ">Predicted=409.007, Expected=364.000\n",
            ">Predicted=335.283, Expected=487.000\n",
            "RMSE: 51.115\n"
          ]
        }
      ]
    },
    {
      "cell_type": "markdown",
      "source": [
        "##### (2) Grid Search ARIMA Hyperparameters"
      ],
      "metadata": {
        "id": "Q1C239S9_Sia"
      }
    },
    {
      "cell_type": "code",
      "source": [
        "# grid search ARIMA parameters for time series\n",
        "import warnings\n",
        "warnings.filterwarnings(\"ignore\")\n",
        "\n",
        "# evalute an ARIMA model for a given order (p,d,q) and return RMSE\n",
        "def evaluate_arima_model(X, arima_order):\n",
        "  # prepare training dataset\n",
        "  X = X.astype(float)\n",
        "  train_size = int(len(X) * 0.50)\n",
        "  train, test = X[:train_size], X[train_size:]\n",
        "  # make predictions\n",
        "  predictions = list()\n",
        "  for t in range(len(test)):\n",
        "    model = ARIMA(history, order=arima_order)\n",
        "    model_fit = model.fit()\n",
        "    yhat = model_fit.forecast()[0]\n",
        "    predictions.append(yhat)\n",
        "    history.append(test[t])\n",
        "  # calculate out of sample error\n",
        "  rmse = np.sqrt(mean_squared_error(test, predictions))\n",
        "  return rmse\n",
        "\n",
        "# evaluate combinations of p, d and q values for an ARIMA model\n",
        "def evaluate_models(dataset, p_values, d_values, q_values):\n",
        "  dataset = dataset.astype(float)\n",
        "  best_score, best_cfg = float('inf'), None\n",
        "  for p in p_values:\n",
        "    for d in d_values:\n",
        "      for q in q_values:\n",
        "        order = (p, d, q)\n",
        "        try:\n",
        "          rmse = evaluate_arima_model(dataset, order)\n",
        "          if rmse < best_score:\n",
        "            best_score, best_cfg = rmse, order\n",
        "          print(f'ARIMA {order} RMSE={rmse:.3f}')\n",
        "        except:\n",
        "          continue\n",
        "  print(f'Best ARIMA {best_cfg} RMSE={best_score:.3f}')\n",
        "\n",
        "# load dataset\n",
        "series = pd.read_csv('dataset.csv', index_col=0, parse_dates=True)\n",
        "# evaluate parameters\n",
        "p_values = range(0, 3)\n",
        "d_values = range(0, 3)\n",
        "q_values = range(0, 3)\n",
        "evaluate_models(series['Robberies'].values, p_values, d_values, q_values)"
      ],
      "metadata": {
        "colab": {
          "base_uri": "https://localhost:8080/"
        },
        "id": "PtGLUoh1n7ul",
        "outputId": "bec2fe42-48d7-488d-9685-d5b273f12edc"
      },
      "execution_count": 27,
      "outputs": [
        {
          "output_type": "stream",
          "name": "stdout",
          "text": [
            "ARIMA (0, 0, 0) RMSE=109.630\n",
            "ARIMA (0, 0, 1) RMSE=81.385\n",
            "ARIMA (0, 0, 2) RMSE=69.050\n",
            "ARIMA (0, 1, 0) RMSE=71.739\n",
            "ARIMA (0, 1, 1) RMSE=66.986\n",
            "ARIMA (0, 1, 2) RMSE=66.036\n",
            "ARIMA (0, 2, 0) RMSE=117.397\n",
            "ARIMA (0, 2, 1) RMSE=71.823\n",
            "ARIMA (0, 2, 2) RMSE=66.776\n",
            "ARIMA (1, 0, 0) RMSE=65.205\n",
            "ARIMA (1, 0, 1) RMSE=64.140\n",
            "ARIMA (1, 0, 2) RMSE=64.212\n",
            "ARIMA (1, 1, 0) RMSE=67.616\n",
            "ARIMA (1, 1, 1) RMSE=64.987\n",
            "ARIMA (1, 1, 2) RMSE=63.959\n",
            "ARIMA (1, 2, 0) RMSE=89.801\n",
            "ARIMA (1, 2, 1) RMSE=67.623\n",
            "ARIMA (1, 2, 2) RMSE=65.377\n",
            "ARIMA (2, 0, 0) RMSE=63.442\n",
            "ARIMA (2, 0, 1) RMSE=63.290\n",
            "ARIMA (2, 0, 2) RMSE=63.339\n",
            "ARIMA (2, 1, 0) RMSE=67.411\n",
            "ARIMA (2, 1, 1) RMSE=63.546\n",
            "ARIMA (2, 1, 2) RMSE=63.401\n",
            "ARIMA (2, 2, 0) RMSE=84.798\n",
            "ARIMA (2, 2, 1) RMSE=67.422\n",
            "ARIMA (2, 2, 2) RMSE=67.093\n",
            "Best ARIMA (2, 0, 1) RMSE=63.290\n"
          ]
        }
      ]
    },
    {
      "cell_type": "markdown",
      "source": [
        "##### (3) Review Residual Errors\n",
        "\n",
        "A good final check of a model is to review residual forecast errors. Ideally, the distribution of residual errors should be a Gaussian with a zero mean. We can check this by plotting the residuals with a histogram and density plots."
      ],
      "metadata": {
        "id": "tjtLBOIrFt_l"
      }
    },
    {
      "cell_type": "code",
      "source": [
        "# plto residual errors for ARIMA model\n",
        "# load data\n",
        "series = pd.read_csv('dataset.csv', index_col=0, parse_dates=True)\n",
        "# prepare data\n",
        "X = series['Robberies'].astype(float).values\n",
        "train_size = int(len(X) * 0.50)\n",
        "train, test = X[:train_size], X[train_size:]\n",
        "# walk-forward validation\n",
        "history = [x for x in train]\n",
        "predictions = list()\n",
        "for i in range(len(test)):\n",
        "  # predict\n",
        "  model = ARIMA(history, order=(2, 0, 1))\n",
        "  model_fit = model.fit()\n",
        "  yhat = model_fit.forecast()[0]\n",
        "  predictions.append(yhat)\n",
        "  # observation\n",
        "  obs = test[i]\n",
        "  history.append(obs)\n",
        "# errors\n",
        "residuals = [test[i] - predictions[i] for i in range(len(test))]\n",
        "residuals = pd.DataFrame(residuals)\n",
        "plt.figure()\n",
        "plt.subplot(211)\n",
        "residuals.hist(ax=plt.gca())\n",
        "plt.subplot(212)\n",
        "residuals.plot(kind='kde', ax=plt.gca())\n",
        "plt.show()"
      ],
      "metadata": {
        "colab": {
          "base_uri": "https://localhost:8080/",
          "height": 452
        },
        "id": "ewDeCD3XmCHM",
        "outputId": "a3fb6cf2-aa72-4ef4-ceb6-5afaace2ed66"
      },
      "execution_count": 29,
      "outputs": [
        {
          "output_type": "display_data",
          "data": {
            "text/plain": [
              "<Figure size 640x480 with 2 Axes>"
            ],
            "image/png": "[encoded data removed]"
          },
          "metadata": {}
        }
      ]
    },
    {
      "cell_type": "markdown",
      "source": [
        "The graphs suggest a Gaussian-like distribution with a longer right tail. This is perhaps a sign that the predictions are biased, and in this case that perhaps a power-based transform of the raw data before modeling might be useful.\n",
        "\n",
        "It is also a good idea to check the time series of the residual errors for any type of autocorrelation. If present, it would suggest that the model has more opportunity to model the temporal structure in the data."
      ],
      "metadata": {
        "id": "vDNwH0Z6GvsT"
      }
    },
    {
      "cell_type": "code",
      "source": [
        "# ACF and PACF plots of forecast residual errors\n",
        "plt.figure()\n",
        "plt.subplot(211)\n",
        "plot_acf(residuals, lags=25, ax=plt.gca())\n",
        "plt.subplot(212)\n",
        "plot_pacf(residuals, lags=25, ax=plt.gca())\n",
        "plt.show()"
      ],
      "metadata": {
        "colab": {
          "base_uri": "https://localhost:8080/",
          "height": 452
        },
        "id": "kJdPbKVdnN7W",
        "outputId": "af335e19-112b-4bcc-ca63-4df9e7d15a8c"
      },
      "execution_count": 30,
      "outputs": [
        {
          "output_type": "display_data",
          "data": {
            "text/plain": [
              "<Figure size 640x480 with 2 Axes>"
            ],
            "image/png": "[encoded data removed]"
          },
          "metadata": {}
        }
      ]
    },
    {
      "cell_type": "markdown",
      "source": [
        "##### (4) Box-Cox Transformed Dataset\n",
        "\n",
        "The **Box-Cox transform** is a method that is able to evaluate a suite of power transforms, including, but not limited to, log, square root, and reciprocal transforms of the data."
      ],
      "metadata": {
        "id": "qSJF6077HRxk"
      }
    },
    {
      "cell_type": "code",
      "source": [
        "# plots of box-cox transformed dataset\n",
        "from scipy.stats import boxcox\n",
        "from statsmodels.graphics.gofplots import qqplot\n",
        "series = pd.read_csv('dataset.csv', index_col=0, parse_dates=True)\n",
        "X = series['Robberies'].astype(float).values\n",
        "transformed, lam = boxcox(X)\n",
        "print(f'Lambda: {lam}')\n",
        "\n",
        "plt.figure()\n",
        "# line plot\n",
        "plt.subplot(311)\n",
        "plt.plot(transformed)\n",
        "# histogram\n",
        "plt.subplot(312)\n",
        "plt.hist(transformed)\n",
        "# q-q plot\n",
        "plt.subplot(313)\n",
        "qqplot(transformed, line='r', ax=plt.gca())\n",
        "plt.show()"
      ],
      "metadata": {
        "colab": {
          "base_uri": "https://localhost:8080/",
          "height": 466
        },
        "id": "jIEvE0sJHa_l",
        "outputId": "de4c8220-7710-4b0b-eaff-8000038b64c1"
      },
      "execution_count": 31,
      "outputs": [
        {
          "output_type": "stream",
          "name": "stdout",
          "text": [
            "Lambda: 0.26006027610165455\n"
          ]
        },
        {
          "output_type": "display_data",
          "data": {
            "text/plain": [
              "<Figure size 640x480 with 3 Axes>"
            ],
            "image/png": "[encoded data removed]"
          },
          "metadata": {}
        }
      ]
    },
    {
      "cell_type": "markdown",
      "source": [
        "Some observations from these plots are as follows:\n",
        "- The larget fluctuations have been removed from the line plot of the time series.\n",
        "- The histogram shows a flatter or more uniform (well behaved) distribution of values.\n",
        "- The Q-Q plot is reasonable, but still not a perfect fit for a Gaussin distribution.\n",
        "\n",
        "Undoubtedly, the Box-Cox transform has done something to the time series and may be useful. Before proceeding to test the ARIMA model with the transformed data, we must have a way to reverse the transform in order to convert predictions made with a model trained on\n",
        "the transformed data back into the original scale. The boxcox() function used in the example finds an ideal lambda value by optimizing a cost function. The lambda is used in the following function to transform the data:\n",
        "\n",
        "for a variable $y>0$:\n",
        "- if $\\lambda=0, y(\\lambda)=ln(y).$\n",
        "- if $\\lambda\\neq 0, y(\\lambda)=\\frac{y^\\lambda - 1}{\\lambda}.$\n",
        "\n",
        "This transform function can be reversed directly as follows:\n",
        "- if $\\lambda=0, y=exp(transform)$.\n",
        "- if $\\lambda \\neq 0, y = exp(log(\\lambda \\times transform + 1)/\\lambda)$.\n"
      ],
      "metadata": {
        "id": "mpm2UTnZISYg"
      }
    },
    {
      "cell_type": "code",
      "source": [
        "# invert Box-Cox transform\n",
        "def boxcox_inverse(value, lam):\n",
        "  if lam == 0:\n",
        "    return np.exp(value)\n",
        "  return np.exp(np.log(lam * value + 1) / lam)"
      ],
      "metadata": {
        "id": "BXFFTFdYIiOD"
      },
      "execution_count": 32,
      "outputs": []
    },
    {
      "cell_type": "markdown",
      "source": [
        "By convention, lambda values are evaluated between -5 and 5.\n",
        "A check is added for a lambda value less than -5, and if this the case, a lambda value of 1 is assumed and the raw history is used to fit the model. A lambda value of 1 is the same as no-transform and therefore the inverse transform has no eﬀect."
      ],
      "metadata": {
        "id": "4EUlDROybiet"
      }
    },
    {
      "cell_type": "code",
      "source": [
        "# evaluate ARIMA models with box-cox transformed time series\n",
        "from scipy.stats import boxcox\n",
        "\n",
        "# load data\n",
        "series = pd.read_csv('dataset.csv', index_col=0, parse_dates=True)\n",
        "# prepare data\n",
        "X = series['Robberies'].astype(float).values\n",
        "train_size = int(len(X) * 0.50)\n",
        "train, test = X[:train_size], X[train_size:]\n",
        "# walk-forward validation\n",
        "history = [x for x in train]\n",
        "predictions = list()\n",
        "for i in range(len(test)):\n",
        "  # transform\n",
        "  transformed, lam = boxcox(history)\n",
        "  if lam < -5:\n",
        "    transformed, lam = history, 1\n",
        "  # predict\n",
        "  model = ARIMA(transformed, order=(2, 0, 1))\n",
        "  model_fit = model.fit()\n",
        "  yhat = model_fit.forecast()[0]\n",
        "  # invert transformed prediction\n",
        "  yhat = boxcox_inverse(yhat, lam)\n",
        "  predictions.append(yhat)\n",
        "  # observation\n",
        "  obs = test[i]\n",
        "  history.append(obs)\n",
        "  print(f'>Prediction={yhat:.3f}, Expected={obs:.3f}')\n",
        "# report performance\n",
        "rmse = np.sqrt(mean_squared_error(test, predictions))\n",
        "print(f'RMSE: {rmse:.3f}')"
      ],
      "metadata": {
        "colab": {
          "base_uri": "https://localhost:8080/"
        },
        "id": "r9GfHPPhbjyg",
        "outputId": "398f0b32-f0ed-4768-f0de-8314065471fb"
      },
      "execution_count": 34,
      "outputs": [
        {
          "output_type": "stream",
          "name": "stdout",
          "text": [
            ">Prediction=96.071, Expected=125.000\n",
            ">Prediction=112.177, Expected=155.000\n",
            ">Prediction=139.004, Expected=190.000\n",
            ">Prediction=184.563, Expected=236.000\n",
            ">Prediction=208.358, Expected=189.000\n",
            ">Prediction=186.378, Expected=174.000\n",
            ">Prediction=155.652, Expected=178.000\n",
            ">Prediction=176.521, Expected=136.000\n",
            ">Prediction=124.792, Expected=161.000\n",
            ">Prediction=156.721, Expected=171.000\n",
            ">Prediction=156.876, Expected=149.000\n",
            ">Prediction=142.911, Expected=184.000\n",
            ">Prediction=173.201, Expected=155.000\n",
            ">Prediction=154.519, Expected=276.000\n",
            ">Prediction=232.093, Expected=224.000\n",
            ">Prediction=211.558, Expected=213.000\n",
            ">Prediction=207.045, Expected=279.000\n",
            ">Prediction=251.228, Expected=268.000\n",
            ">Prediction=252.917, Expected=287.000\n",
            ">Prediction=269.754, Expected=238.000\n",
            ">Prediction=240.628, Expected=213.000\n",
            ">Prediction=219.524, Expected=257.000\n",
            ">Prediction=245.684, Expected=293.000\n",
            ">Prediction=272.409, Expected=212.000\n",
            ">Prediction=222.649, Expected=246.000\n",
            ">Prediction=240.106, Expected=353.000\n",
            ">Prediction=308.323, Expected=339.000\n",
            ">Prediction=314.529, Expected=308.000\n",
            ">Prediction=301.155, Expected=247.000\n",
            ">Prediction=258.997, Expected=257.000\n",
            ">Prediction=260.130, Expected=322.000\n",
            ">Prediction=300.986, Expected=298.000\n",
            ">Prediction=291.077, Expected=273.000\n",
            ">Prediction=275.128, Expected=312.000\n",
            ">Prediction=299.202, Expected=249.000\n",
            ">Prediction=259.528, Expected=286.000\n",
            ">Prediction=279.389, Expected=279.000\n",
            ">Prediction=275.936, Expected=309.000\n",
            ">Prediction=295.540, Expected=401.000\n",
            ">Prediction=357.962, Expected=309.000\n",
            ">Prediction=311.362, Expected=328.000\n",
            ">Prediction=321.873, Expected=353.000\n",
            ">Prediction=339.091, Expected=354.000\n",
            ">Prediction=343.595, Expected=327.000\n",
            ">Prediction=328.417, Expected=324.000\n",
            ">Prediction=324.740, Expected=285.000\n",
            ">Prediction=297.006, Expected=243.000\n",
            ">Prediction=261.625, Expected=241.000\n",
            ">Prediction=251.810, Expected=287.000\n",
            ">Prediction=278.532, Expected=355.000\n",
            ">Prediction=325.953, Expected=460.000\n",
            ">Prediction=406.065, Expected=364.000\n",
            ">Prediction=354.509, Expected=487.000\n",
            "RMSE: 50.716\n"
          ]
        }
      ]
    },
    {
      "cell_type": "markdown",
      "source": [
        "We will use this model with the Box-Cox transform as the final model."
      ],
      "metadata": {
        "id": "hn_rj0I-fVOF"
      }
    },
    {
      "cell_type": "markdown",
      "source": [
        "#### 6. Model Validation\n",
        "\n",
        "After models have been developed and a final model selected, it must be validated and finalized.\n",
        "Validation is an optional part of the process, but one that provides a last check to ensure we have not fooled or lied to ourselves.\n",
        "\n",
        "##### (1) Finalize Model: Train and save the final model\n",
        "\n",
        "Finalizing the model involves fitting an ARIMA model on the entire dataset, in this case, on a transformed version of the entire dataset. Once fit, the model can be saved to file for later use.\n",
        "Because a Box-Cox transform is also performed on the data, we need to know the chosen lambda so that any predictions from the model can be converted back to the original, untransformed scale."
      ],
      "metadata": {
        "id": "QNGvE94RfWtM"
      }
    },
    {
      "cell_type": "code",
      "source": [
        "# finalize model and save file\n",
        "# load data\n",
        "series = pd.read_csv('dataset.csv', index_col=0, parse_dates=True)\n",
        "# prepare data\n",
        "X = series['Robberies'].astype(float).values\n",
        "# transform data\n",
        "transformed, lam = boxcox(X)\n",
        "# fit model\n",
        "model = ARIMA(transformed, order=(2, 0, 1))\n",
        "model_fit = model.fit()\n",
        "# save model\n",
        "model_fit.save('model.pkl')\n",
        "np.save('model_lambda.npy', [lam])"
      ],
      "metadata": {
        "id": "RSB-G68wgOZr"
      },
      "execution_count": 35,
      "outputs": []
    },
    {
      "cell_type": "markdown",
      "source": [
        "##### (2) Make Prediction: Load the finalized model and make a prediction"
      ],
      "metadata": {
        "id": "YmlMT7r5gOyT"
      }
    },
    {
      "cell_type": "code",
      "source": [
        "# load the finalized model and make a prediction\n",
        "model_fit_loaded = model_fit.load('model.pkl')\n",
        "lam_loaded = np.load('model_lambda.npy')\n",
        "yhat = model_fit_loaded.forecast()[0]\n",
        "yhat = boxcox_inverse(yhat, lam_loaded)[0]\n",
        "print(f'Predicted: {yhat:.3f}')"
      ],
      "metadata": {
        "colab": {
          "base_uri": "https://localhost:8080/"
        },
        "id": "q7O4KIGrfIaB",
        "outputId": "25235754-01a1-49a0-a5e2-7717d6229cab"
      },
      "execution_count": 46,
      "outputs": [
        {
          "output_type": "stream",
          "name": "stdout",
          "text": [
            "Predicted: 439.778\n"
          ]
        }
      ]
    },
    {
      "cell_type": "markdown",
      "source": [
        "Running the example prints the prediction of about 439.78. If we peek inside validation.csv, we can see that the value on the first row for the next time period is 452."
      ],
      "metadata": {
        "id": "wk5PZ-aZmQJP"
      }
    },
    {
      "cell_type": "markdown",
      "source": [
        "##### (3) Validate Model: Load and validate the final model\n",
        "\n",
        "In the test harness section, we saved the final 12 months of the original dataset in a separate file to validate the final model.\n",
        "We can load this validation.csv file now and use it see how well our model really is on unseen data.\n",
        "\n",
        "There are two ways we might proceed:\n",
        "- Load the model and use it to forecast the next 12 months. The forecast beyond the first one or two months will quickly start to degrade in skill.\n",
        "- Load the model and use it in a rolling-forecast manner, updating the transform and model for each time step. This is the preferred method as it is how one would use this model in practice, as it would achieve the best performance.\n",
        "\n",
        "As with model evaluation in previous sections, we will make predictions in a rolling-forecast manner. This means that we will step over lead times in the validation dataset and take the\n",
        "observations as an update to the history."
      ],
      "metadata": {
        "id": "0H9bx4YygStK"
      }
    },
    {
      "cell_type": "code",
      "source": [
        "# evaluate the finalized model on the validation dataset\n",
        "\n",
        "# load and prepare datasets\n",
        "dataset = pd.read_csv('dataset.csv', index_col=0, parse_dates=True)\n",
        "X = dataset['Robberies'].astype(float).values\n",
        "history = [x for x in X]\n",
        "validation = pd.read_csv('validation.csv', index_col=0, parse_dates=True)\n",
        "y = validation['Robberies'].astype(float).values\n",
        "\n",
        "# load model\n",
        "model_fit_loaded = model_fit.load('model.pkl')\n",
        "lam_loaded = np.load('model_lambda.npy')\n",
        "\n",
        "# make first prediction\n",
        "predictions = list()\n",
        "yhat = model_fit_loaded.forecast()[0]\n",
        "yhat = boxcox_inverse(yhat, lam_loaded)[0]\n",
        "predictions.append(yhat)\n",
        "history.append(y[0])\n",
        "print(f'>Predicted={yhat:.3f}, Expected={y[0]:.3f}')\n",
        "\n",
        "# rolling forecasts\n",
        "for i in range(1, len(y)):\n",
        "  # transform\n",
        "  transformed, lam = boxcox(history)\n",
        "  # transform\n",
        "  if lam < -5:\n",
        "    transformed, lam = history, 1\n",
        "  # predict\n",
        "  model = ARIMA(transformed, order=(2, 0, 1))\n",
        "  model_fit = model.fit()\n",
        "  yhat = model_fit.forecast()[0]\n",
        "  # invert transformed prediction\n",
        "  yhat = boxcox_inverse(yhat, lam)\n",
        "  predictions.append(yhat)\n",
        "  # observation\n",
        "  obs = y[i]\n",
        "  history.append(obs)\n",
        "  print(f'>Predicted={yhat:.3f}, Expected={obs:.3f}')\n",
        "\n",
        "# report performance\n",
        "rmse = np.sqrt(mean_squared_error(y, predictions))\n",
        "print(f'RMSE: {rmse:.3f}')\n",
        "plt.plot(y)\n",
        "plt.plot(predictions, color='red')\n",
        "plt.show()"
      ],
      "metadata": {
        "colab": {
          "base_uri": "https://localhost:8080/",
          "height": 656
        },
        "id": "j7lZ9APugV2g",
        "outputId": "ca9b8f61-37c3-4b7c-9408-094a936ee1d1"
      },
      "execution_count": 64,
      "outputs": [
        {
          "output_type": "stream",
          "name": "stdout",
          "text": [
            ">Predicted=439.778, Expected=452.000\n",
            ">Predicted=430.906, Expected=391.000\n",
            ">Predicted=393.557, Expected=500.000\n",
            ">Predicted=465.970, Expected=451.000\n",
            ">Predicted=443.767, Expected=375.000\n",
            ">Predicted=391.634, Expected=372.000\n",
            ">Predicted=382.414, Expected=302.000\n",
            ">Predicted=326.454, Expected=316.000\n",
            ">Predicted=326.796, Expected=398.000\n",
            ">Predicted=380.370, Expected=394.000\n",
            ">Predicted=382.309, Expected=431.000\n",
            ">Predicted=410.491, Expected=431.000\n",
            "RMSE: 52.467\n"
          ]
        },
        {
          "output_type": "display_data",
          "data": {
            "text/plain": [
              "<Figure size 640x480 with 1 Axes>"
            ],
            "image/png": "[encoded data removed]"
          },
          "metadata": {}
        }
      ]
    },
    {
      "cell_type": "markdown",
      "source": [
        "#### Extensions\n",
        "\n",
        "There may be more to do to improve the result:\n",
        "- Statistical Significance Tests: Use a statistical test to check if the diﬀerence in results between diﬀerent models is statistically significant. The Student’s t-test would be a good place to start.\n",
        "- Grid Search with Data Transforms: Repeat the grid search in the ARIMA hyperpa-rameters with the Box-Cox transform and see if a diﬀerent and better set of parameters can be achieved.\n",
        "- Inspect Residuals: Investigate the residual forecast errors on the final model with Box-Cox transforms to see if there is a further bias and/or autocorrelation that can be addressed.\n",
        "- Lean Model Saving: Simplify model saving to only store the required coeﬃcients rather than the entire ARIMAResults object.\n",
        "- Manullay Handle Trend: Model the trend directly with a linear or nonlinear model and explicitly remove it from the series. This may result in better performance if the trend is nonlinear and can be modeled better than the linear case.\n",
        "- Confidence Interval: Display the confidence intervals for the predictions on the validation dataset.\n",
        "- Data Selection: Consider modeling the problem without the first two years of data and see if this has an impact on forecast skill."
      ],
      "metadata": {
        "id": "kSxwo6lZq7Qg"
      }
    }
  ]
}