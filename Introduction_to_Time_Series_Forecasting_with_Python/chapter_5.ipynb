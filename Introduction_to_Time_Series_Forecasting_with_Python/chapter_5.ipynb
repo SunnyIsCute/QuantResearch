{
  "metadata": {
    "kernelspec": {
      "name": "python",
      "display_name": "Python (Pyodide)",
      "language": "python"
    },
    "language_info": {
      "codemirror_mode": {
        "name": "python",
        "version": 3
      },
      "file_extension": ".py",
      "mimetype": "text/x-python",
      "name": "python",
      "nbconvert_exporter": "python",
      "pygments_lexer": "ipython3",
      "version": "3.8"
    }
  },
  "nbformat_minor": 5,
  "nbformat": 4,
  "cells": [
    {
      "id": "1ecc98af-2e26-45cc-bd87-fabbd474797a",
      "cell_type": "markdown",
      "source": "## Chapter 5 Basic Feature Engineering",
      "metadata": {}
    },
    {
      "id": "f826eac7-e5c7-40d0-b3f9-9359145817d5",
      "cell_type": "code",
      "source": "import pandas as pd\nimport numpy as np",
      "metadata": {
        "trusted": true
      },
      "outputs": [],
      "execution_count": 1
    },
    {
      "id": "ee4a8343-1829-4ca9-acc8-d0248260a75c",
      "cell_type": "markdown",
      "source": "#### Date Time Features",
      "metadata": {}
    },
    {
      "id": "0ff8c277-17da-452e-947a-5a68efd0a9e1",
      "cell_type": "code",
      "source": "df = pd.read_csv('data/daily-minimum-temperatures.csv', parse_dates=['Date']) ",
      "metadata": {
        "trusted": true
      },
      "outputs": [],
      "execution_count": 2
    },
    {
      "id": "049fa86d-287a-4db1-85d5-57bfcd19dde5",
      "cell_type": "code",
      "source": "df",
      "metadata": {
        "trusted": true
      },
      "outputs": [
        {
          "execution_count": 3,
          "output_type": "execute_result",
          "data": {
            "text/plain": "           Date  Temp\n0    1981-01-01  20.7\n1    1981-01-02  17.9\n2    1981-01-03  18.8\n3    1981-01-04  14.6\n4    1981-01-05  15.8\n...         ...   ...\n3645 1990-12-27  14.0\n3646 1990-12-28  13.6\n3647 1990-12-29  13.5\n3648 1990-12-30  15.7\n3649 1990-12-31  13.0\n\n[3650 rows x 2 columns]",
            "text/html": "<div>\n<style scoped>\n    .dataframe tbody tr th:only-of-type {\n        vertical-align: middle;\n    }\n\n    .dataframe tbody tr th {\n        vertical-align: top;\n    }\n\n    .dataframe thead th {\n        text-align: right;\n    }\n</style>\n<table border=\"1\" class=\"dataframe\">\n  <thead>\n    <tr style=\"text-align: right;\">\n      <th></th>\n      <th>Date</th>\n      <th>Temp</th>\n    </tr>\n  </thead>\n  <tbody>\n    <tr>\n      <th>0</th>\n      <td>1981-01-01</td>\n      <td>20.7</td>\n    </tr>\n    <tr>\n      <th>1</th>\n      <td>1981-01-02</td>\n      <td>17.9</td>\n    </tr>\n    <tr>\n      <th>2</th>\n      <td>1981-01-03</td>\n      <td>18.8</td>\n    </tr>\n    <tr>\n      <th>3</th>\n      <td>1981-01-04</td>\n      <td>14.6</td>\n    </tr>\n    <tr>\n      <th>4</th>\n      <td>1981-01-05</td>\n      <td>15.8</td>\n    </tr>\n    <tr>\n      <th>...</th>\n      <td>...</td>\n      <td>...</td>\n    </tr>\n    <tr>\n      <th>3645</th>\n      <td>1990-12-27</td>\n      <td>14.0</td>\n    </tr>\n    <tr>\n      <th>3646</th>\n      <td>1990-12-28</td>\n      <td>13.6</td>\n    </tr>\n    <tr>\n      <th>3647</th>\n      <td>1990-12-29</td>\n      <td>13.5</td>\n    </tr>\n    <tr>\n      <th>3648</th>\n      <td>1990-12-30</td>\n      <td>15.7</td>\n    </tr>\n    <tr>\n      <th>3649</th>\n      <td>1990-12-31</td>\n      <td>13.0</td>\n    </tr>\n  </tbody>\n</table>\n<p>3650 rows × 2 columns</p>\n</div>"
          },
          "metadata": {}
        }
      ],
      "execution_count": 3
    },
    {
      "id": "e5955e9f-5075-4397-8e17-3cef279415d9",
      "cell_type": "code",
      "source": "type(df['Date'].values[0])",
      "metadata": {
        "trusted": true
      },
      "outputs": [
        {
          "execution_count": 4,
          "output_type": "execute_result",
          "data": {
            "text/plain": "numpy.datetime64"
          },
          "metadata": {}
        }
      ],
      "execution_count": 4
    },
    {
      "id": "b5049c5c-8a2b-4c11-a713-d569355c9edd",
      "cell_type": "code",
      "source": "df['month'] = df['Date'].dt.month\ndf['day'] = df['Date'].dt.day\ndf.head()",
      "metadata": {
        "trusted": true
      },
      "outputs": [
        {
          "execution_count": 5,
          "output_type": "execute_result",
          "data": {
            "text/plain": "        Date  Temp  month  day\n0 1981-01-01  20.7      1    1\n1 1981-01-02  17.9      1    2\n2 1981-01-03  18.8      1    3\n3 1981-01-04  14.6      1    4\n4 1981-01-05  15.8      1    5",
            "text/html": "<div>\n<style scoped>\n    .dataframe tbody tr th:only-of-type {\n        vertical-align: middle;\n    }\n\n    .dataframe tbody tr th {\n        vertical-align: top;\n    }\n\n    .dataframe thead th {\n        text-align: right;\n    }\n</style>\n<table border=\"1\" class=\"dataframe\">\n  <thead>\n    <tr style=\"text-align: right;\">\n      <th></th>\n      <th>Date</th>\n      <th>Temp</th>\n      <th>month</th>\n      <th>day</th>\n    </tr>\n  </thead>\n  <tbody>\n    <tr>\n      <th>0</th>\n      <td>1981-01-01</td>\n      <td>20.7</td>\n      <td>1</td>\n      <td>1</td>\n    </tr>\n    <tr>\n      <th>1</th>\n      <td>1981-01-02</td>\n      <td>17.9</td>\n      <td>1</td>\n      <td>2</td>\n    </tr>\n    <tr>\n      <th>2</th>\n      <td>1981-01-03</td>\n      <td>18.8</td>\n      <td>1</td>\n      <td>3</td>\n    </tr>\n    <tr>\n      <th>3</th>\n      <td>1981-01-04</td>\n      <td>14.6</td>\n      <td>1</td>\n      <td>4</td>\n    </tr>\n    <tr>\n      <th>4</th>\n      <td>1981-01-05</td>\n      <td>15.8</td>\n      <td>1</td>\n      <td>5</td>\n    </tr>\n  </tbody>\n</table>\n</div>"
          },
          "metadata": {}
        }
      ],
      "execution_count": 5
    },
    {
      "id": "81a6f5ca-8981-4bbe-adb3-964eea91d114",
      "cell_type": "markdown",
      "source": "#### Lag Features - lag 1",
      "metadata": {}
    },
    {
      "id": "7f58bf0a-7604-4043-84c1-aca08f7f9084",
      "cell_type": "code",
      "source": "df2 = pd.concat([df['Temp'].shift(1), df['Temp']], axis=1)\ndf2.columns = ['Temp at t', 'Temp at t+1']\ndf2.head()",
      "metadata": {
        "trusted": true
      },
      "outputs": [
        {
          "execution_count": 6,
          "output_type": "execute_result",
          "data": {
            "text/plain": "   Temp at t  Temp at t+1\n0        NaN         20.7\n1       20.7         17.9\n2       17.9         18.8\n3       18.8         14.6\n4       14.6         15.8",
            "text/html": "<div>\n<style scoped>\n    .dataframe tbody tr th:only-of-type {\n        vertical-align: middle;\n    }\n\n    .dataframe tbody tr th {\n        vertical-align: top;\n    }\n\n    .dataframe thead th {\n        text-align: right;\n    }\n</style>\n<table border=\"1\" class=\"dataframe\">\n  <thead>\n    <tr style=\"text-align: right;\">\n      <th></th>\n      <th>Temp at t</th>\n      <th>Temp at t+1</th>\n    </tr>\n  </thead>\n  <tbody>\n    <tr>\n      <th>0</th>\n      <td>NaN</td>\n      <td>20.7</td>\n    </tr>\n    <tr>\n      <th>1</th>\n      <td>20.7</td>\n      <td>17.9</td>\n    </tr>\n    <tr>\n      <th>2</th>\n      <td>17.9</td>\n      <td>18.8</td>\n    </tr>\n    <tr>\n      <th>3</th>\n      <td>18.8</td>\n      <td>14.6</td>\n    </tr>\n    <tr>\n      <th>4</th>\n      <td>14.6</td>\n      <td>15.8</td>\n    </tr>\n  </tbody>\n</table>\n</div>"
          },
          "metadata": {}
        }
      ],
      "execution_count": 6
    },
    {
      "id": "0cd4f4c1-f38c-40a6-92c1-f76c76c9ce32",
      "cell_type": "markdown",
      "source": "#### Lag Features - lag 3",
      "metadata": {}
    },
    {
      "id": "28f73db0-bd9b-406b-bdfd-fa6c7c64967e",
      "cell_type": "code",
      "source": "df3 = pd.concat([df['Temp'].shift(3), df['Temp'].shift(2), df['Temp'].shift(1), df['Temp']], axis=1)\ndf3.columns = ['t-2', 't-1', 't', 't+1']\ndf3.head()",
      "metadata": {
        "trusted": true
      },
      "outputs": [
        {
          "execution_count": 7,
          "output_type": "execute_result",
          "data": {
            "text/plain": "    t-2   t-1     t   t+1\n0   NaN   NaN   NaN  20.7\n1   NaN   NaN  20.7  17.9\n2   NaN  20.7  17.9  18.8\n3  20.7  17.9  18.8  14.6\n4  17.9  18.8  14.6  15.8",
            "text/html": "<div>\n<style scoped>\n    .dataframe tbody tr th:only-of-type {\n        vertical-align: middle;\n    }\n\n    .dataframe tbody tr th {\n        vertical-align: top;\n    }\n\n    .dataframe thead th {\n        text-align: right;\n    }\n</style>\n<table border=\"1\" class=\"dataframe\">\n  <thead>\n    <tr style=\"text-align: right;\">\n      <th></th>\n      <th>t-2</th>\n      <th>t-1</th>\n      <th>t</th>\n      <th>t+1</th>\n    </tr>\n  </thead>\n  <tbody>\n    <tr>\n      <th>0</th>\n      <td>NaN</td>\n      <td>NaN</td>\n      <td>NaN</td>\n      <td>20.7</td>\n    </tr>\n    <tr>\n      <th>1</th>\n      <td>NaN</td>\n      <td>NaN</td>\n      <td>20.7</td>\n      <td>17.9</td>\n    </tr>\n    <tr>\n      <th>2</th>\n      <td>NaN</td>\n      <td>20.7</td>\n      <td>17.9</td>\n      <td>18.8</td>\n    </tr>\n    <tr>\n      <th>3</th>\n      <td>20.7</td>\n      <td>17.9</td>\n      <td>18.8</td>\n      <td>14.6</td>\n    </tr>\n    <tr>\n      <th>4</th>\n      <td>17.9</td>\n      <td>18.8</td>\n      <td>14.6</td>\n      <td>15.8</td>\n    </tr>\n  </tbody>\n</table>\n</div>"
          },
          "metadata": {}
        }
      ],
      "execution_count": 7
    },
    {
      "id": "239d11ed-21b6-4185-a638-54dec6b1b6b0",
      "cell_type": "markdown",
      "source": "#### Rolling Mean Features/ Sliding Window Features",
      "metadata": {}
    },
    {
      "id": "aecb71f6-9221-4dc9-a07d-84c16849f88a",
      "cell_type": "code",
      "source": "df4 = pd.concat([df['Temp'].shift(1).rolling(2).mean(), df['Temp']], axis=1)\ndf4.columns = ['mean(t-1,t)', 't+1']\ndf4.head()",
      "metadata": {
        "trusted": true
      },
      "outputs": [
        {
          "execution_count": 14,
          "output_type": "execute_result",
          "data": {
            "text/plain": "   mean(t-1,t)   t+1\n0          NaN  20.7\n1          NaN  17.9\n2        19.30  18.8\n3        18.35  14.6\n4        16.70  15.8",
            "text/html": "<div>\n<style scoped>\n    .dataframe tbody tr th:only-of-type {\n        vertical-align: middle;\n    }\n\n    .dataframe tbody tr th {\n        vertical-align: top;\n    }\n\n    .dataframe thead th {\n        text-align: right;\n    }\n</style>\n<table border=\"1\" class=\"dataframe\">\n  <thead>\n    <tr style=\"text-align: right;\">\n      <th></th>\n      <th>mean(t-1,t)</th>\n      <th>t+1</th>\n    </tr>\n  </thead>\n  <tbody>\n    <tr>\n      <th>0</th>\n      <td>NaN</td>\n      <td>20.7</td>\n    </tr>\n    <tr>\n      <th>1</th>\n      <td>NaN</td>\n      <td>17.9</td>\n    </tr>\n    <tr>\n      <th>2</th>\n      <td>19.30</td>\n      <td>18.8</td>\n    </tr>\n    <tr>\n      <th>3</th>\n      <td>18.35</td>\n      <td>14.6</td>\n    </tr>\n    <tr>\n      <th>4</th>\n      <td>16.70</td>\n      <td>15.8</td>\n    </tr>\n  </tbody>\n</table>\n</div>"
          },
          "metadata": {}
        }
      ],
      "execution_count": 14
    },
    {
      "id": "d5912626-7004-4205-8470-48b6c66c348d",
      "cell_type": "markdown",
      "source": "#### Rolling Stats Features",
      "metadata": {}
    },
    {
      "id": "923e3dae-f5ff-4877-a90b-ee39da24c795",
      "cell_type": "code",
      "source": "df5 = pd.concat([df['Temp'].shift(2).rolling(3).min(), df['Temp'].shift(2).rolling(3).mean(), df['Temp'].shift(2).rolling(3).max(), df['Temp']], axis=1)\ndf5.columns = ['min', 'mean', 'max', 't+1']\ndf5.head()",
      "metadata": {
        "trusted": true
      },
      "outputs": [
        {
          "execution_count": 17,
          "output_type": "execute_result",
          "data": {
            "text/plain": "    min       mean   max   t+1\n0   NaN        NaN   NaN  20.7\n1   NaN        NaN   NaN  17.9\n2   NaN        NaN   NaN  18.8\n3   NaN        NaN   NaN  14.6\n4  17.9  19.133333  20.7  15.8",
            "text/html": "<div>\n<style scoped>\n    .dataframe tbody tr th:only-of-type {\n        vertical-align: middle;\n    }\n\n    .dataframe tbody tr th {\n        vertical-align: top;\n    }\n\n    .dataframe thead th {\n        text-align: right;\n    }\n</style>\n<table border=\"1\" class=\"dataframe\">\n  <thead>\n    <tr style=\"text-align: right;\">\n      <th></th>\n      <th>min</th>\n      <th>mean</th>\n      <th>max</th>\n      <th>t+1</th>\n    </tr>\n  </thead>\n  <tbody>\n    <tr>\n      <th>0</th>\n      <td>NaN</td>\n      <td>NaN</td>\n      <td>NaN</td>\n      <td>20.7</td>\n    </tr>\n    <tr>\n      <th>1</th>\n      <td>NaN</td>\n      <td>NaN</td>\n      <td>NaN</td>\n      <td>17.9</td>\n    </tr>\n    <tr>\n      <th>2</th>\n      <td>NaN</td>\n      <td>NaN</td>\n      <td>NaN</td>\n      <td>18.8</td>\n    </tr>\n    <tr>\n      <th>3</th>\n      <td>NaN</td>\n      <td>NaN</td>\n      <td>NaN</td>\n      <td>14.6</td>\n    </tr>\n    <tr>\n      <th>4</th>\n      <td>17.9</td>\n      <td>19.133333</td>\n      <td>20.7</td>\n      <td>15.8</td>\n    </tr>\n  </tbody>\n</table>\n</div>"
          },
          "metadata": {}
        }
      ],
      "execution_count": 17
    },
    {
      "id": "ead954f1-c3ad-4c6e-906b-f8254df5f7e9",
      "cell_type": "markdown",
      "source": "#### Expanding Window Features",
      "metadata": {}
    },
    {
      "id": "8fcc5d22-347a-4375-beac-f6199c15d6e2",
      "cell_type": "code",
      "source": "df6 = pd.concat([df['Temp'].expanding().min(), df['Temp'].expanding().mean(), df['Temp'].expanding().max(), df['Temp'].shift(-1)], axis=1)\ndf6.columns = ['min', 'mean', 'max','t+1']\ndf6.head()",
      "metadata": {
        "trusted": true
      },
      "outputs": [
        {
          "execution_count": 22,
          "output_type": "execute_result",
          "data": {
            "text/plain": "    min       mean   max   t+1\n0  20.7  20.700000  20.7  17.9\n1  17.9  19.300000  20.7  18.8\n2  17.9  19.133333  20.7  14.6\n3  14.6  18.000000  20.7  15.8\n4  14.6  17.560000  20.7  15.8",
            "text/html": "<div>\n<style scoped>\n    .dataframe tbody tr th:only-of-type {\n        vertical-align: middle;\n    }\n\n    .dataframe tbody tr th {\n        vertical-align: top;\n    }\n\n    .dataframe thead th {\n        text-align: right;\n    }\n</style>\n<table border=\"1\" class=\"dataframe\">\n  <thead>\n    <tr style=\"text-align: right;\">\n      <th></th>\n      <th>min</th>\n      <th>mean</th>\n      <th>max</th>\n      <th>t+1</th>\n    </tr>\n  </thead>\n  <tbody>\n    <tr>\n      <th>0</th>\n      <td>20.7</td>\n      <td>20.700000</td>\n      <td>20.7</td>\n      <td>17.9</td>\n    </tr>\n    <tr>\n      <th>1</th>\n      <td>17.9</td>\n      <td>19.300000</td>\n      <td>20.7</td>\n      <td>18.8</td>\n    </tr>\n    <tr>\n      <th>2</th>\n      <td>17.9</td>\n      <td>19.133333</td>\n      <td>20.7</td>\n      <td>14.6</td>\n    </tr>\n    <tr>\n      <th>3</th>\n      <td>14.6</td>\n      <td>18.000000</td>\n      <td>20.7</td>\n      <td>15.8</td>\n    </tr>\n    <tr>\n      <th>4</th>\n      <td>14.6</td>\n      <td>17.560000</td>\n      <td>20.7</td>\n      <td>15.8</td>\n    </tr>\n  </tbody>\n</table>\n</div>"
          },
          "metadata": {}
        }
      ],
      "execution_count": 22
    },
    {
      "id": "234f0632-7935-4a33-b852-f8fd11bfe02a",
      "cell_type": "code",
      "source": "",
      "metadata": {
        "trusted": true
      },
      "outputs": [],
      "execution_count": null
    }
  ]
}