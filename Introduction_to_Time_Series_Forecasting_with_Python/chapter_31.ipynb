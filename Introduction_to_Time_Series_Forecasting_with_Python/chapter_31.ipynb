{
  "nbformat": 4,
  "nbformat_minor": 0,
  "metadata": {
    "colab": {
      "provenance": []
    },
    "kernelspec": {
      "name": "python3",
      "display_name": "Python 3"
    },
    "language_info": {
      "name": "python"
    }
  },
  "cells": [
    {
      "cell_type": "markdown",
      "source": [
        "## Chapter 31 Project: Annual Water Usage in Baltimore\n",
        "\n",
        "### Overview\n",
        "- Problem Description\n",
        "- Test Harness\n",
        "- Persistance\n",
        "- Data Analysis\n",
        "- ARIMA Models\n",
        "- Model Validation\n"
      ],
      "metadata": {
        "id": "gqlFqJP408JF"
      }
    },
    {
      "cell_type": "code",
      "source": [
        "import pandas as pd\n",
        "import numpy as np\n",
        "import matplotlib.pyplot as plt\n",
        "\n",
        "from sklearn.metrics import mean_squared_error\n",
        "from statsmodels.tsa.stattools import adfuller\n",
        "from statsmodels.graphics.tsaplots import plot_acf, plot_pacf\n",
        "from statsmodels.tsa.arima.model import ARIMA"
      ],
      "metadata": {
        "id": "9D3DjUHx1_Eu"
      },
      "execution_count": 1,
      "outputs": []
    },
    {
      "cell_type": "markdown",
      "source": [
        "#### 1. Problem Description\n",
        "\n",
        "The problem is to predict annual water usage. The dataset provides the annual water usage in Baltimore from 1885 to 1963, or 79 years of data. The values are in the units of liters per capita per day, and there are 79 observations. The dataset is credited to Hipel and McLeod, 1994."
      ],
      "metadata": {
        "id": "hEXJb90_1Sec"
      }
    },
    {
      "cell_type": "code",
      "execution_count": 2,
      "metadata": {
        "colab": {
          "base_uri": "https://localhost:8080/",
          "height": 255
        },
        "id": "j1zc1yy6slm9",
        "outputId": "c4ca2306-4c75-425b-81a7-5dee071d3cb6"
      },
      "outputs": [
        {
          "output_type": "stream",
          "name": "stdout",
          "text": [
            "(79, 1)\n"
          ]
        },
        {
          "output_type": "execute_result",
          "data": {
            "text/plain": [
              "            Water\n",
              "Year             \n",
              "1885-01-01    356\n",
              "1886-01-01    386\n",
              "1887-01-01    397\n",
              "1888-01-01    397\n",
              "1889-01-01    413"
            ],
            "text/html": [
              "\n",
              "  <div id=\"df-d501d586-0479-4930-92f1-80761674b592\" class=\"colab-df-container\">\n",
              "    <div>\n",
              "<style scoped>\n",
              "    .dataframe tbody tr th:only-of-type {\n",
              "        vertical-align: middle;\n",
              "    }\n",
              "\n",
              "    .dataframe tbody tr th {\n",
              "        vertical-align: top;\n",
              "    }\n",
              "\n",
              "    .dataframe thead th {\n",
              "        text-align: right;\n",
              "    }\n",
              "</style>\n",
              "<table border=\"1\" class=\"dataframe\">\n",
              "  <thead>\n",
              "    <tr style=\"text-align: right;\">\n",
              "      <th></th>\n",
              "      <th>Water</th>\n",
              "    </tr>\n",
              "    <tr>\n",
              "      <th>Year</th>\n",
              "      <th></th>\n",
              "    </tr>\n",
              "  </thead>\n",
              "  <tbody>\n",
              "    <tr>\n",
              "      <th>1885-01-01</th>\n",
              "      <td>356</td>\n",
              "    </tr>\n",
              "    <tr>\n",
              "      <th>1886-01-01</th>\n",
              "      <td>386</td>\n",
              "    </tr>\n",
              "    <tr>\n",
              "      <th>1887-01-01</th>\n",
              "      <td>397</td>\n",
              "    </tr>\n",
              "    <tr>\n",
              "      <th>1888-01-01</th>\n",
              "      <td>397</td>\n",
              "    </tr>\n",
              "    <tr>\n",
              "      <th>1889-01-01</th>\n",
              "      <td>413</td>\n",
              "    </tr>\n",
              "  </tbody>\n",
              "</table>\n",
              "</div>\n",
              "    <div class=\"colab-df-buttons\">\n",
              "\n",
              "  <div class=\"colab-df-container\">\n",
              "    <button class=\"colab-df-convert\" onclick=\"convertToInteractive('df-d501d586-0479-4930-92f1-80761674b592')\"\n",
              "            title=\"Convert this dataframe to an interactive table.\"\n",
              "            style=\"display:none;\">\n",
              "\n",
              "  <svg xmlns=\"http://www.w3.org/2000/svg\" height=\"24px\" viewBox=\"0 -960 960 960\">\n",
              "    <path d=\"M120-120v-720h720v720H120Zm60-500h600v-160H180v160Zm220 220h160v-160H400v160Zm0 220h160v-160H400v160ZM180-400h160v-160H180v160Zm440 0h160v-160H620v160ZM180-180h160v-160H180v160Zm440 0h160v-160H620v160Z\"/>\n",
              "  </svg>\n",
              "    </button>\n",
              "\n",
              "  <style>\n",
              "    .colab-df-container {\n",
              "      display:flex;\n",
              "      gap: 12px;\n",
              "    }\n",
              "\n",
              "    .colab-df-convert {\n",
              "      background-color: #E8F0FE;\n",
              "      border: none;\n",
              "      border-radius: 50%;\n",
              "      cursor: pointer;\n",
              "      display: none;\n",
              "      fill: #1967D2;\n",
              "      height: 32px;\n",
              "      padding: 0 0 0 0;\n",
              "      width: 32px;\n",
              "    }\n",
              "\n",
              "    .colab-df-convert:hover {\n",
              "      background-color: #E2EBFA;\n",
              "      box-shadow: 0px 1px 2px rgba(60, 64, 67, 0.3), 0px 1px 3px 1px rgba(60, 64, 67, 0.15);\n",
              "      fill: #174EA6;\n",
              "    }\n",
              "\n",
              "    .colab-df-buttons div {\n",
              "      margin-bottom: 4px;\n",
              "    }\n",
              "\n",
              "    [theme=dark] .colab-df-convert {\n",
              "      background-color: #3B4455;\n",
              "      fill: #D2E3FC;\n",
              "    }\n",
              "\n",
              "    [theme=dark] .colab-df-convert:hover {\n",
              "      background-color: #434B5C;\n",
              "      box-shadow: 0px 1px 3px 1px rgba(0, 0, 0, 0.15);\n",
              "      filter: drop-shadow(0px 1px 2px rgba(0, 0, 0, 0.3));\n",
              "      fill: #FFFFFF;\n",
              "    }\n",
              "  </style>\n",
              "\n",
              "    <script>\n",
              "      const buttonEl =\n",
              "        document.querySelector('#df-d501d586-0479-4930-92f1-80761674b592 button.colab-df-convert');\n",
              "      buttonEl.style.display =\n",
              "        google.colab.kernel.accessAllowed ? 'block' : 'none';\n",
              "\n",
              "      async function convertToInteractive(key) {\n",
              "        const element = document.querySelector('#df-d501d586-0479-4930-92f1-80761674b592');\n",
              "        const dataTable =\n",
              "          await google.colab.kernel.invokeFunction('convertToInteractive',\n",
              "                                                    [key], {});\n",
              "        if (!dataTable) return;\n",
              "\n",
              "        const docLinkHtml = 'Like what you see? Visit the ' +\n",
              "          '<a target=\"_blank\" href=https://colab.research.google.com/notebooks/data_table.ipynb>data table notebook</a>'\n",
              "          + ' to learn more about interactive tables.';\n",
              "        element.innerHTML = '';\n",
              "        dataTable['output_type'] = 'display_data';\n",
              "        await google.colab.output.renderOutput(dataTable, element);\n",
              "        const docLink = document.createElement('div');\n",
              "        docLink.innerHTML = docLinkHtml;\n",
              "        element.appendChild(docLink);\n",
              "      }\n",
              "    </script>\n",
              "  </div>\n",
              "\n",
              "\n",
              "    <div id=\"df-c7ee0399-ef6e-4969-afaa-a4f3e8256141\">\n",
              "      <button class=\"colab-df-quickchart\" onclick=\"quickchart('df-c7ee0399-ef6e-4969-afaa-a4f3e8256141')\"\n",
              "                title=\"Suggest charts\"\n",
              "                style=\"display:none;\">\n",
              "\n",
              "<svg xmlns=\"http://www.w3.org/2000/svg\" height=\"24px\"viewBox=\"0 0 24 24\"\n",
              "     width=\"24px\">\n",
              "    <g>\n",
              "        <path d=\"M19 3H5c-1.1 0-2 .9-2 2v14c0 1.1.9 2 2 2h14c1.1 0 2-.9 2-2V5c0-1.1-.9-2-2-2zM9 17H7v-7h2v7zm4 0h-2V7h2v10zm4 0h-2v-4h2v4z\"/>\n",
              "    </g>\n",
              "</svg>\n",
              "      </button>\n",
              "\n",
              "<style>\n",
              "  .colab-df-quickchart {\n",
              "      --bg-color: #E8F0FE;\n",
              "      --fill-color: #1967D2;\n",
              "      --hover-bg-color: #E2EBFA;\n",
              "      --hover-fill-color: #174EA6;\n",
              "      --disabled-fill-color: #AAA;\n",
              "      --disabled-bg-color: #DDD;\n",
              "  }\n",
              "\n",
              "  [theme=dark] .colab-df-quickchart {\n",
              "      --bg-color: #3B4455;\n",
              "      --fill-color: #D2E3FC;\n",
              "      --hover-bg-color: #434B5C;\n",
              "      --hover-fill-color: #FFFFFF;\n",
              "      --disabled-bg-color: #3B4455;\n",
              "      --disabled-fill-color: #666;\n",
              "  }\n",
              "\n",
              "  .colab-df-quickchart {\n",
              "    background-color: var(--bg-color);\n",
              "    border: none;\n",
              "    border-radius: 50%;\n",
              "    cursor: pointer;\n",
              "    display: none;\n",
              "    fill: var(--fill-color);\n",
              "    height: 32px;\n",
              "    padding: 0;\n",
              "    width: 32px;\n",
              "  }\n",
              "\n",
              "  .colab-df-quickchart:hover {\n",
              "    background-color: var(--hover-bg-color);\n",
              "    box-shadow: 0 1px 2px rgba(60, 64, 67, 0.3), 0 1px 3px 1px rgba(60, 64, 67, 0.15);\n",
              "    fill: var(--button-hover-fill-color);\n",
              "  }\n",
              "\n",
              "  .colab-df-quickchart-complete:disabled,\n",
              "  .colab-df-quickchart-complete:disabled:hover {\n",
              "    background-color: var(--disabled-bg-color);\n",
              "    fill: var(--disabled-fill-color);\n",
              "    box-shadow: none;\n",
              "  }\n",
              "\n",
              "  .colab-df-spinner {\n",
              "    border: 2px solid var(--fill-color);\n",
              "    border-color: transparent;\n",
              "    border-bottom-color: var(--fill-color);\n",
              "    animation:\n",
              "      spin 1s steps(1) infinite;\n",
              "  }\n",
              "\n",
              "  @keyframes spin {\n",
              "    0% {\n",
              "      border-color: transparent;\n",
              "      border-bottom-color: var(--fill-color);\n",
              "      border-left-color: var(--fill-color);\n",
              "    }\n",
              "    20% {\n",
              "      border-color: transparent;\n",
              "      border-left-color: var(--fill-color);\n",
              "      border-top-color: var(--fill-color);\n",
              "    }\n",
              "    30% {\n",
              "      border-color: transparent;\n",
              "      border-left-color: var(--fill-color);\n",
              "      border-top-color: var(--fill-color);\n",
              "      border-right-color: var(--fill-color);\n",
              "    }\n",
              "    40% {\n",
              "      border-color: transparent;\n",
              "      border-right-color: var(--fill-color);\n",
              "      border-top-color: var(--fill-color);\n",
              "    }\n",
              "    60% {\n",
              "      border-color: transparent;\n",
              "      border-right-color: var(--fill-color);\n",
              "    }\n",
              "    80% {\n",
              "      border-color: transparent;\n",
              "      border-right-color: var(--fill-color);\n",
              "      border-bottom-color: var(--fill-color);\n",
              "    }\n",
              "    90% {\n",
              "      border-color: transparent;\n",
              "      border-bottom-color: var(--fill-color);\n",
              "    }\n",
              "  }\n",
              "</style>\n",
              "\n",
              "      <script>\n",
              "        async function quickchart(key) {\n",
              "          const quickchartButtonEl =\n",
              "            document.querySelector('#' + key + ' button');\n",
              "          quickchartButtonEl.disabled = true;  // To prevent multiple clicks.\n",
              "          quickchartButtonEl.classList.add('colab-df-spinner');\n",
              "          try {\n",
              "            const charts = await google.colab.kernel.invokeFunction(\n",
              "                'suggestCharts', [key], {});\n",
              "          } catch (error) {\n",
              "            console.error('Error during call to suggestCharts:', error);\n",
              "          }\n",
              "          quickchartButtonEl.classList.remove('colab-df-spinner');\n",
              "          quickchartButtonEl.classList.add('colab-df-quickchart-complete');\n",
              "        }\n",
              "        (() => {\n",
              "          let quickchartButtonEl =\n",
              "            document.querySelector('#df-c7ee0399-ef6e-4969-afaa-a4f3e8256141 button');\n",
              "          quickchartButtonEl.style.display =\n",
              "            google.colab.kernel.accessAllowed ? 'block' : 'none';\n",
              "        })();\n",
              "      </script>\n",
              "    </div>\n",
              "\n",
              "    </div>\n",
              "  </div>\n"
            ],
            "application/vnd.google.colaboratory.intrinsic+json": {
              "type": "dataframe",
              "variable_name": "series",
              "summary": "{\n  \"name\": \"series\",\n  \"rows\": 79,\n  \"fields\": [\n    {\n      \"column\": \"Year\",\n      \"properties\": {\n        \"dtype\": \"date\",\n        \"min\": \"1885-01-01 00:00:00\",\n        \"max\": \"1963-01-01 00:00:00\",\n        \"num_unique_values\": 79,\n        \"samples\": [\n          \"1915-01-01 00:00:00\",\n          \"1885-01-01 00:00:00\",\n          \"1907-01-01 00:00:00\"\n        ],\n        \"semantic_type\": \"\",\n        \"description\": \"\"\n      }\n    },\n    {\n      \"column\": \"Water\",\n      \"properties\": {\n        \"dtype\": \"number\",\n        \"std\": 75,\n        \"min\": 344,\n        \"max\": 662,\n        \"num_unique_values\": 49,\n        \"samples\": [\n          462,\n          579,\n          594\n        ],\n        \"semantic_type\": \"\",\n        \"description\": \"\"\n      }\n    }\n  ]\n}"
            }
          },
          "metadata": {},
          "execution_count": 2
        }
      ],
      "source": [
        "series = pd.read_csv('data/water.csv', index_col=0, parse_dates=True)\n",
        "print(series.shape)\n",
        "series.head()"
      ]
    },
    {
      "cell_type": "code",
      "source": [
        "series.tail()"
      ],
      "metadata": {
        "colab": {
          "base_uri": "https://localhost:8080/",
          "height": 238
        },
        "id": "_G0fG_s_2J80",
        "outputId": "8f7f4161-d439-4009-8dcd-744d058c8122"
      },
      "execution_count": 3,
      "outputs": [
        {
          "output_type": "execute_result",
          "data": {
            "text/plain": [
              "            Water\n",
              "Year             \n",
              "1959-01-01    594\n",
              "1960-01-01    587\n",
              "1961-01-01    587\n",
              "1962-01-01    625\n",
              "1963-01-01    613"
            ],
            "text/html": [
              "\n",
              "  <div id=\"df-445438a6-b16f-4274-b464-c911b19b9f0b\" class=\"colab-df-container\">\n",
              "    <div>\n",
              "<style scoped>\n",
              "    .dataframe tbody tr th:only-of-type {\n",
              "        vertical-align: middle;\n",
              "    }\n",
              "\n",
              "    .dataframe tbody tr th {\n",
              "        vertical-align: top;\n",
              "    }\n",
              "\n",
              "    .dataframe thead th {\n",
              "        text-align: right;\n",
              "    }\n",
              "</style>\n",
              "<table border=\"1\" class=\"dataframe\">\n",
              "  <thead>\n",
              "    <tr style=\"text-align: right;\">\n",
              "      <th></th>\n",
              "      <th>Water</th>\n",
              "    </tr>\n",
              "    <tr>\n",
              "      <th>Year</th>\n",
              "      <th></th>\n",
              "    </tr>\n",
              "  </thead>\n",
              "  <tbody>\n",
              "    <tr>\n",
              "      <th>1959-01-01</th>\n",
              "      <td>594</td>\n",
              "    </tr>\n",
              "    <tr>\n",
              "      <th>1960-01-01</th>\n",
              "      <td>587</td>\n",
              "    </tr>\n",
              "    <tr>\n",
              "      <th>1961-01-01</th>\n",
              "      <td>587</td>\n",
              "    </tr>\n",
              "    <tr>\n",
              "      <th>1962-01-01</th>\n",
              "      <td>625</td>\n",
              "    </tr>\n",
              "    <tr>\n",
              "      <th>1963-01-01</th>\n",
              "      <td>613</td>\n",
              "    </tr>\n",
              "  </tbody>\n",
              "</table>\n",
              "</div>\n",
              "    <div class=\"colab-df-buttons\">\n",
              "\n",
              "  <div class=\"colab-df-container\">\n",
              "    <button class=\"colab-df-convert\" onclick=\"convertToInteractive('df-445438a6-b16f-4274-b464-c911b19b9f0b')\"\n",
              "            title=\"Convert this dataframe to an interactive table.\"\n",
              "            style=\"display:none;\">\n",
              "\n",
              "  <svg xmlns=\"http://www.w3.org/2000/svg\" height=\"24px\" viewBox=\"0 -960 960 960\">\n",
              "    <path d=\"M120-120v-720h720v720H120Zm60-500h600v-160H180v160Zm220 220h160v-160H400v160Zm0 220h160v-160H400v160ZM180-400h160v-160H180v160Zm440 0h160v-160H620v160ZM180-180h160v-160H180v160Zm440 0h160v-160H620v160Z\"/>\n",
              "  </svg>\n",
              "    </button>\n",
              "\n",
              "  <style>\n",
              "    .colab-df-container {\n",
              "      display:flex;\n",
              "      gap: 12px;\n",
              "    }\n",
              "\n",
              "    .colab-df-convert {\n",
              "      background-color: #E8F0FE;\n",
              "      border: none;\n",
              "      border-radius: 50%;\n",
              "      cursor: pointer;\n",
              "      display: none;\n",
              "      fill: #1967D2;\n",
              "      height: 32px;\n",
              "      padding: 0 0 0 0;\n",
              "      width: 32px;\n",
              "    }\n",
              "\n",
              "    .colab-df-convert:hover {\n",
              "      background-color: #E2EBFA;\n",
              "      box-shadow: 0px 1px 2px rgba(60, 64, 67, 0.3), 0px 1px 3px 1px rgba(60, 64, 67, 0.15);\n",
              "      fill: #174EA6;\n",
              "    }\n",
              "\n",
              "    .colab-df-buttons div {\n",
              "      margin-bottom: 4px;\n",
              "    }\n",
              "\n",
              "    [theme=dark] .colab-df-convert {\n",
              "      background-color: #3B4455;\n",
              "      fill: #D2E3FC;\n",
              "    }\n",
              "\n",
              "    [theme=dark] .colab-df-convert:hover {\n",
              "      background-color: #434B5C;\n",
              "      box-shadow: 0px 1px 3px 1px rgba(0, 0, 0, 0.15);\n",
              "      filter: drop-shadow(0px 1px 2px rgba(0, 0, 0, 0.3));\n",
              "      fill: #FFFFFF;\n",
              "    }\n",
              "  </style>\n",
              "\n",
              "    <script>\n",
              "      const buttonEl =\n",
              "        document.querySelector('#df-445438a6-b16f-4274-b464-c911b19b9f0b button.colab-df-convert');\n",
              "      buttonEl.style.display =\n",
              "        google.colab.kernel.accessAllowed ? 'block' : 'none';\n",
              "\n",
              "      async function convertToInteractive(key) {\n",
              "        const element = document.querySelector('#df-445438a6-b16f-4274-b464-c911b19b9f0b');\n",
              "        const dataTable =\n",
              "          await google.colab.kernel.invokeFunction('convertToInteractive',\n",
              "                                                    [key], {});\n",
              "        if (!dataTable) return;\n",
              "\n",
              "        const docLinkHtml = 'Like what you see? Visit the ' +\n",
              "          '<a target=\"_blank\" href=https://colab.research.google.com/notebooks/data_table.ipynb>data table notebook</a>'\n",
              "          + ' to learn more about interactive tables.';\n",
              "        element.innerHTML = '';\n",
              "        dataTable['output_type'] = 'display_data';\n",
              "        await google.colab.output.renderOutput(dataTable, element);\n",
              "        const docLink = document.createElement('div');\n",
              "        docLink.innerHTML = docLinkHtml;\n",
              "        element.appendChild(docLink);\n",
              "      }\n",
              "    </script>\n",
              "  </div>\n",
              "\n",
              "\n",
              "    <div id=\"df-cdb11715-5f58-4946-8d7c-7eb3352b4f4f\">\n",
              "      <button class=\"colab-df-quickchart\" onclick=\"quickchart('df-cdb11715-5f58-4946-8d7c-7eb3352b4f4f')\"\n",
              "                title=\"Suggest charts\"\n",
              "                style=\"display:none;\">\n",
              "\n",
              "<svg xmlns=\"http://www.w3.org/2000/svg\" height=\"24px\"viewBox=\"0 0 24 24\"\n",
              "     width=\"24px\">\n",
              "    <g>\n",
              "        <path d=\"M19 3H5c-1.1 0-2 .9-2 2v14c0 1.1.9 2 2 2h14c1.1 0 2-.9 2-2V5c0-1.1-.9-2-2-2zM9 17H7v-7h2v7zm4 0h-2V7h2v10zm4 0h-2v-4h2v4z\"/>\n",
              "    </g>\n",
              "</svg>\n",
              "      </button>\n",
              "\n",
              "<style>\n",
              "  .colab-df-quickchart {\n",
              "      --bg-color: #E8F0FE;\n",
              "      --fill-color: #1967D2;\n",
              "      --hover-bg-color: #E2EBFA;\n",
              "      --hover-fill-color: #174EA6;\n",
              "      --disabled-fill-color: #AAA;\n",
              "      --disabled-bg-color: #DDD;\n",
              "  }\n",
              "\n",
              "  [theme=dark] .colab-df-quickchart {\n",
              "      --bg-color: #3B4455;\n",
              "      --fill-color: #D2E3FC;\n",
              "      --hover-bg-color: #434B5C;\n",
              "      --hover-fill-color: #FFFFFF;\n",
              "      --disabled-bg-color: #3B4455;\n",
              "      --disabled-fill-color: #666;\n",
              "  }\n",
              "\n",
              "  .colab-df-quickchart {\n",
              "    background-color: var(--bg-color);\n",
              "    border: none;\n",
              "    border-radius: 50%;\n",
              "    cursor: pointer;\n",
              "    display: none;\n",
              "    fill: var(--fill-color);\n",
              "    height: 32px;\n",
              "    padding: 0;\n",
              "    width: 32px;\n",
              "  }\n",
              "\n",
              "  .colab-df-quickchart:hover {\n",
              "    background-color: var(--hover-bg-color);\n",
              "    box-shadow: 0 1px 2px rgba(60, 64, 67, 0.3), 0 1px 3px 1px rgba(60, 64, 67, 0.15);\n",
              "    fill: var(--button-hover-fill-color);\n",
              "  }\n",
              "\n",
              "  .colab-df-quickchart-complete:disabled,\n",
              "  .colab-df-quickchart-complete:disabled:hover {\n",
              "    background-color: var(--disabled-bg-color);\n",
              "    fill: var(--disabled-fill-color);\n",
              "    box-shadow: none;\n",
              "  }\n",
              "\n",
              "  .colab-df-spinner {\n",
              "    border: 2px solid var(--fill-color);\n",
              "    border-color: transparent;\n",
              "    border-bottom-color: var(--fill-color);\n",
              "    animation:\n",
              "      spin 1s steps(1) infinite;\n",
              "  }\n",
              "\n",
              "  @keyframes spin {\n",
              "    0% {\n",
              "      border-color: transparent;\n",
              "      border-bottom-color: var(--fill-color);\n",
              "      border-left-color: var(--fill-color);\n",
              "    }\n",
              "    20% {\n",
              "      border-color: transparent;\n",
              "      border-left-color: var(--fill-color);\n",
              "      border-top-color: var(--fill-color);\n",
              "    }\n",
              "    30% {\n",
              "      border-color: transparent;\n",
              "      border-left-color: var(--fill-color);\n",
              "      border-top-color: var(--fill-color);\n",
              "      border-right-color: var(--fill-color);\n",
              "    }\n",
              "    40% {\n",
              "      border-color: transparent;\n",
              "      border-right-color: var(--fill-color);\n",
              "      border-top-color: var(--fill-color);\n",
              "    }\n",
              "    60% {\n",
              "      border-color: transparent;\n",
              "      border-right-color: var(--fill-color);\n",
              "    }\n",
              "    80% {\n",
              "      border-color: transparent;\n",
              "      border-right-color: var(--fill-color);\n",
              "      border-bottom-color: var(--fill-color);\n",
              "    }\n",
              "    90% {\n",
              "      border-color: transparent;\n",
              "      border-bottom-color: var(--fill-color);\n",
              "    }\n",
              "  }\n",
              "</style>\n",
              "\n",
              "      <script>\n",
              "        async function quickchart(key) {\n",
              "          const quickchartButtonEl =\n",
              "            document.querySelector('#' + key + ' button');\n",
              "          quickchartButtonEl.disabled = true;  // To prevent multiple clicks.\n",
              "          quickchartButtonEl.classList.add('colab-df-spinner');\n",
              "          try {\n",
              "            const charts = await google.colab.kernel.invokeFunction(\n",
              "                'suggestCharts', [key], {});\n",
              "          } catch (error) {\n",
              "            console.error('Error during call to suggestCharts:', error);\n",
              "          }\n",
              "          quickchartButtonEl.classList.remove('colab-df-spinner');\n",
              "          quickchartButtonEl.classList.add('colab-df-quickchart-complete');\n",
              "        }\n",
              "        (() => {\n",
              "          let quickchartButtonEl =\n",
              "            document.querySelector('#df-cdb11715-5f58-4946-8d7c-7eb3352b4f4f button');\n",
              "          quickchartButtonEl.style.display =\n",
              "            google.colab.kernel.accessAllowed ? 'block' : 'none';\n",
              "        })();\n",
              "      </script>\n",
              "    </div>\n",
              "\n",
              "    </div>\n",
              "  </div>\n"
            ],
            "application/vnd.google.colaboratory.intrinsic+json": {
              "type": "dataframe",
              "summary": "{\n  \"name\": \"series\",\n  \"rows\": 5,\n  \"fields\": [\n    {\n      \"column\": \"Year\",\n      \"properties\": {\n        \"dtype\": \"date\",\n        \"min\": \"1959-01-01 00:00:00\",\n        \"max\": \"1963-01-01 00:00:00\",\n        \"num_unique_values\": 5,\n        \"samples\": [\n          \"1960-01-01 00:00:00\",\n          \"1963-01-01 00:00:00\",\n          \"1961-01-01 00:00:00\"\n        ],\n        \"semantic_type\": \"\",\n        \"description\": \"\"\n      }\n    },\n    {\n      \"column\": \"Water\",\n      \"properties\": {\n        \"dtype\": \"number\",\n        \"std\": 17,\n        \"min\": 587,\n        \"max\": 625,\n        \"num_unique_values\": 4,\n        \"samples\": [\n          587,\n          613,\n          594\n        ],\n        \"semantic_type\": \"\",\n        \"description\": \"\"\n      }\n    }\n  ]\n}"
            }
          },
          "metadata": {},
          "execution_count": 3
        }
      ]
    },
    {
      "cell_type": "markdown",
      "source": [
        "#### 2. Test Harness\n",
        "\n",
        "We must develop a test harness to investigate the data and evaluate candidate models. This involves two steps:\n",
        "- Defining a Validation Dataset.\n",
        "- Developing a Method for Model Evaluation.\n",
        "\n",
        "##### (1) Validation Dataset\n",
        "\n",
        "The dataset is not current. This means that we cannot easily collect updated data to validate the model. Therefore, we will pretend that it is 1953 and withhold the last 10 years of data from analysis and model selection. This final decade of data will be used to validate the final model."
      ],
      "metadata": {
        "id": "u71_B7vk1UYv"
      }
    },
    {
      "cell_type": "code",
      "source": [
        "# separate out a validation dataset\n",
        "split_point = len(series) - 10\n",
        "dataset, validation = series[:split_point], series[split_point:]\n",
        "print(f'Dataset {len(dataset)}, Validation {len(validation)}')\n",
        "dataset.to_csv('dataset.csv')\n",
        "validation.to_csv('validation.csv')"
      ],
      "metadata": {
        "colab": {
          "base_uri": "https://localhost:8080/"
        },
        "id": "JHPzWHDL1Xwb",
        "outputId": "82bd2ca3-bb18-41af-8e9f-453a18746d4b"
      },
      "execution_count": 4,
      "outputs": [
        {
          "output_type": "stream",
          "name": "stdout",
          "text": [
            "Dataset 69, Validation 10\n"
          ]
        }
      ]
    },
    {
      "cell_type": "markdown",
      "source": [
        "##### (2) Model Evaluation\n",
        "\n",
        "The RMSE performance measure and walk-forward validation will be used for model evaluation."
      ],
      "metadata": {
        "id": "PdTYTKTu2b1m"
      }
    },
    {
      "cell_type": "markdown",
      "source": [
        "#### 3. Persistence"
      ],
      "metadata": {
        "id": "-FTiP2wl1YJN"
      }
    },
    {
      "cell_type": "code",
      "source": [
        "# evaluate a persistence model\n",
        "# load data\n",
        "series = pd.read_csv('dataset.csv', index_col=0, parse_dates=True)\n",
        "# prepare data\n",
        "X = series['Water'].astype(float).values\n",
        "train_size = int(len(X) * 0.50)\n",
        "train, test = X[:train_size], X[train_size:]\n",
        "# walk-forward validation\n",
        "history = [x for x in train]\n",
        "predictions = list()\n",
        "for i in range(len(test)):\n",
        "  # predict\n",
        "  yhat = history[-1]\n",
        "  predictions.append(yhat)\n",
        "  # observation\n",
        "  obs = test[i]\n",
        "  history.append(obs)\n",
        "  print(f'>Predicted={yhat:.3f}, Expected={obs:.3f}')\n",
        "# report performance\n",
        "rmse = np.sqrt(mean_squared_error(test, predictions))\n",
        "print(f'RMSE: {rmse:.3f}')"
      ],
      "metadata": {
        "colab": {
          "base_uri": "https://localhost:8080/"
        },
        "id": "JT43Ab4B1ZaZ",
        "outputId": "01c573be-b176-466b-dade-961afcf261f4"
      },
      "execution_count": 5,
      "outputs": [
        {
          "output_type": "stream",
          "name": "stdout",
          "text": [
            ">Predicted=503.000, Expected=503.000\n",
            ">Predicted=503.000, Expected=503.000\n",
            ">Predicted=503.000, Expected=515.000\n",
            ">Predicted=515.000, Expected=522.000\n",
            ">Predicted=522.000, Expected=492.000\n",
            ">Predicted=492.000, Expected=503.000\n",
            ">Predicted=503.000, Expected=503.000\n",
            ">Predicted=503.000, Expected=450.000\n",
            ">Predicted=450.000, Expected=432.000\n",
            ">Predicted=432.000, Expected=432.000\n",
            ">Predicted=432.000, Expected=458.000\n",
            ">Predicted=458.000, Expected=462.000\n",
            ">Predicted=462.000, Expected=503.000\n",
            ">Predicted=503.000, Expected=488.000\n",
            ">Predicted=488.000, Expected=466.000\n",
            ">Predicted=466.000, Expected=492.000\n",
            ">Predicted=492.000, Expected=503.000\n",
            ">Predicted=503.000, Expected=515.000\n",
            ">Predicted=515.000, Expected=500.000\n",
            ">Predicted=500.000, Expected=522.000\n",
            ">Predicted=522.000, Expected=575.000\n",
            ">Predicted=575.000, Expected=583.000\n",
            ">Predicted=583.000, Expected=587.000\n",
            ">Predicted=587.000, Expected=628.000\n",
            ">Predicted=628.000, Expected=640.000\n",
            ">Predicted=640.000, Expected=609.000\n",
            ">Predicted=609.000, Expected=606.000\n",
            ">Predicted=606.000, Expected=632.000\n",
            ">Predicted=632.000, Expected=617.000\n",
            ">Predicted=617.000, Expected=613.000\n",
            ">Predicted=613.000, Expected=598.000\n",
            ">Predicted=598.000, Expected=575.000\n",
            ">Predicted=575.000, Expected=564.000\n",
            ">Predicted=564.000, Expected=549.000\n",
            ">Predicted=549.000, Expected=538.000\n",
            "RMSE: 21.975\n"
          ]
        }
      ]
    },
    {
      "cell_type": "markdown",
      "source": [
        "#### 4. Data Analysis\n",
        "\n",
        "We will look at the data from four perspectives:\n",
        "- Summary Statistics\n",
        "- Line Plot\n",
        "- Density Plot\n",
        "- Box and Whisker Plot"
      ],
      "metadata": {
        "id": "kCuvZRGu1Z_k"
      }
    },
    {
      "cell_type": "markdown",
      "source": [
        "##### (1) Summary Statistics"
      ],
      "metadata": {
        "id": "V6PxOJvJ4LBw"
      }
    },
    {
      "cell_type": "code",
      "source": [
        "# summary statistics of time series\n",
        "series = pd.read_csv('dataset.csv', index_col=0, parse_dates=True)\n",
        "series.describe()"
      ],
      "metadata": {
        "colab": {
          "base_uri": "https://localhost:8080/",
          "height": 300
        },
        "id": "aEAMHVh31cGr",
        "outputId": "f08d2c4a-da9c-4ae5-db04-d7f00d4a2daf"
      },
      "execution_count": 6,
      "outputs": [
        {
          "output_type": "execute_result",
          "data": {
            "text/plain": [
              "            Water\n",
              "count   69.000000\n",
              "mean   500.478261\n",
              "std     73.901685\n",
              "min    344.000000\n",
              "25%    458.000000\n",
              "50%    492.000000\n",
              "75%    538.000000\n",
              "max    662.000000"
            ],
            "text/html": [
              "\n",
              "  <div id=\"df-53747854-03a6-4752-b259-1ed27414f509\" class=\"colab-df-container\">\n",
              "    <div>\n",
              "<style scoped>\n",
              "    .dataframe tbody tr th:only-of-type {\n",
              "        vertical-align: middle;\n",
              "    }\n",
              "\n",
              "    .dataframe tbody tr th {\n",
              "        vertical-align: top;\n",
              "    }\n",
              "\n",
              "    .dataframe thead th {\n",
              "        text-align: right;\n",
              "    }\n",
              "</style>\n",
              "<table border=\"1\" class=\"dataframe\">\n",
              "  <thead>\n",
              "    <tr style=\"text-align: right;\">\n",
              "      <th></th>\n",
              "      <th>Water</th>\n",
              "    </tr>\n",
              "  </thead>\n",
              "  <tbody>\n",
              "    <tr>\n",
              "      <th>count</th>\n",
              "      <td>69.000000</td>\n",
              "    </tr>\n",
              "    <tr>\n",
              "      <th>mean</th>\n",
              "      <td>500.478261</td>\n",
              "    </tr>\n",
              "    <tr>\n",
              "      <th>std</th>\n",
              "      <td>73.901685</td>\n",
              "    </tr>\n",
              "    <tr>\n",
              "      <th>min</th>\n",
              "      <td>344.000000</td>\n",
              "    </tr>\n",
              "    <tr>\n",
              "      <th>25%</th>\n",
              "      <td>458.000000</td>\n",
              "    </tr>\n",
              "    <tr>\n",
              "      <th>50%</th>\n",
              "      <td>492.000000</td>\n",
              "    </tr>\n",
              "    <tr>\n",
              "      <th>75%</th>\n",
              "      <td>538.000000</td>\n",
              "    </tr>\n",
              "    <tr>\n",
              "      <th>max</th>\n",
              "      <td>662.000000</td>\n",
              "    </tr>\n",
              "  </tbody>\n",
              "</table>\n",
              "</div>\n",
              "    <div class=\"colab-df-buttons\">\n",
              "\n",
              "  <div class=\"colab-df-container\">\n",
              "    <button class=\"colab-df-convert\" onclick=\"convertToInteractive('df-53747854-03a6-4752-b259-1ed27414f509')\"\n",
              "            title=\"Convert this dataframe to an interactive table.\"\n",
              "            style=\"display:none;\">\n",
              "\n",
              "  <svg xmlns=\"http://www.w3.org/2000/svg\" height=\"24px\" viewBox=\"0 -960 960 960\">\n",
              "    <path d=\"M120-120v-720h720v720H120Zm60-500h600v-160H180v160Zm220 220h160v-160H400v160Zm0 220h160v-160H400v160ZM180-400h160v-160H180v160Zm440 0h160v-160H620v160ZM180-180h160v-160H180v160Zm440 0h160v-160H620v160Z\"/>\n",
              "  </svg>\n",
              "    </button>\n",
              "\n",
              "  <style>\n",
              "    .colab-df-container {\n",
              "      display:flex;\n",
              "      gap: 12px;\n",
              "    }\n",
              "\n",
              "    .colab-df-convert {\n",
              "      background-color: #E8F0FE;\n",
              "      border: none;\n",
              "      border-radius: 50%;\n",
              "      cursor: pointer;\n",
              "      display: none;\n",
              "      fill: #1967D2;\n",
              "      height: 32px;\n",
              "      padding: 0 0 0 0;\n",
              "      width: 32px;\n",
              "    }\n",
              "\n",
              "    .colab-df-convert:hover {\n",
              "      background-color: #E2EBFA;\n",
              "      box-shadow: 0px 1px 2px rgba(60, 64, 67, 0.3), 0px 1px 3px 1px rgba(60, 64, 67, 0.15);\n",
              "      fill: #174EA6;\n",
              "    }\n",
              "\n",
              "    .colab-df-buttons div {\n",
              "      margin-bottom: 4px;\n",
              "    }\n",
              "\n",
              "    [theme=dark] .colab-df-convert {\n",
              "      background-color: #3B4455;\n",
              "      fill: #D2E3FC;\n",
              "    }\n",
              "\n",
              "    [theme=dark] .colab-df-convert:hover {\n",
              "      background-color: #434B5C;\n",
              "      box-shadow: 0px 1px 3px 1px rgba(0, 0, 0, 0.15);\n",
              "      filter: drop-shadow(0px 1px 2px rgba(0, 0, 0, 0.3));\n",
              "      fill: #FFFFFF;\n",
              "    }\n",
              "  </style>\n",
              "\n",
              "    <script>\n",
              "      const buttonEl =\n",
              "        document.querySelector('#df-53747854-03a6-4752-b259-1ed27414f509 button.colab-df-convert');\n",
              "      buttonEl.style.display =\n",
              "        google.colab.kernel.accessAllowed ? 'block' : 'none';\n",
              "\n",
              "      async function convertToInteractive(key) {\n",
              "        const element = document.querySelector('#df-53747854-03a6-4752-b259-1ed27414f509');\n",
              "        const dataTable =\n",
              "          await google.colab.kernel.invokeFunction('convertToInteractive',\n",
              "                                                    [key], {});\n",
              "        if (!dataTable) return;\n",
              "\n",
              "        const docLinkHtml = 'Like what you see? Visit the ' +\n",
              "          '<a target=\"_blank\" href=https://colab.research.google.com/notebooks/data_table.ipynb>data table notebook</a>'\n",
              "          + ' to learn more about interactive tables.';\n",
              "        element.innerHTML = '';\n",
              "        dataTable['output_type'] = 'display_data';\n",
              "        await google.colab.output.renderOutput(dataTable, element);\n",
              "        const docLink = document.createElement('div');\n",
              "        docLink.innerHTML = docLinkHtml;\n",
              "        element.appendChild(docLink);\n",
              "      }\n",
              "    </script>\n",
              "  </div>\n",
              "\n",
              "\n",
              "    <div id=\"df-e4020a9f-932c-48e6-b2e3-f59b174b9ad7\">\n",
              "      <button class=\"colab-df-quickchart\" onclick=\"quickchart('df-e4020a9f-932c-48e6-b2e3-f59b174b9ad7')\"\n",
              "                title=\"Suggest charts\"\n",
              "                style=\"display:none;\">\n",
              "\n",
              "<svg xmlns=\"http://www.w3.org/2000/svg\" height=\"24px\"viewBox=\"0 0 24 24\"\n",
              "     width=\"24px\">\n",
              "    <g>\n",
              "        <path d=\"M19 3H5c-1.1 0-2 .9-2 2v14c0 1.1.9 2 2 2h14c1.1 0 2-.9 2-2V5c0-1.1-.9-2-2-2zM9 17H7v-7h2v7zm4 0h-2V7h2v10zm4 0h-2v-4h2v4z\"/>\n",
              "    </g>\n",
              "</svg>\n",
              "      </button>\n",
              "\n",
              "<style>\n",
              "  .colab-df-quickchart {\n",
              "      --bg-color: #E8F0FE;\n",
              "      --fill-color: #1967D2;\n",
              "      --hover-bg-color: #E2EBFA;\n",
              "      --hover-fill-color: #174EA6;\n",
              "      --disabled-fill-color: #AAA;\n",
              "      --disabled-bg-color: #DDD;\n",
              "  }\n",
              "\n",
              "  [theme=dark] .colab-df-quickchart {\n",
              "      --bg-color: #3B4455;\n",
              "      --fill-color: #D2E3FC;\n",
              "      --hover-bg-color: #434B5C;\n",
              "      --hover-fill-color: #FFFFFF;\n",
              "      --disabled-bg-color: #3B4455;\n",
              "      --disabled-fill-color: #666;\n",
              "  }\n",
              "\n",
              "  .colab-df-quickchart {\n",
              "    background-color: var(--bg-color);\n",
              "    border: none;\n",
              "    border-radius: 50%;\n",
              "    cursor: pointer;\n",
              "    display: none;\n",
              "    fill: var(--fill-color);\n",
              "    height: 32px;\n",
              "    padding: 0;\n",
              "    width: 32px;\n",
              "  }\n",
              "\n",
              "  .colab-df-quickchart:hover {\n",
              "    background-color: var(--hover-bg-color);\n",
              "    box-shadow: 0 1px 2px rgba(60, 64, 67, 0.3), 0 1px 3px 1px rgba(60, 64, 67, 0.15);\n",
              "    fill: var(--button-hover-fill-color);\n",
              "  }\n",
              "\n",
              "  .colab-df-quickchart-complete:disabled,\n",
              "  .colab-df-quickchart-complete:disabled:hover {\n",
              "    background-color: var(--disabled-bg-color);\n",
              "    fill: var(--disabled-fill-color);\n",
              "    box-shadow: none;\n",
              "  }\n",
              "\n",
              "  .colab-df-spinner {\n",
              "    border: 2px solid var(--fill-color);\n",
              "    border-color: transparent;\n",
              "    border-bottom-color: var(--fill-color);\n",
              "    animation:\n",
              "      spin 1s steps(1) infinite;\n",
              "  }\n",
              "\n",
              "  @keyframes spin {\n",
              "    0% {\n",
              "      border-color: transparent;\n",
              "      border-bottom-color: var(--fill-color);\n",
              "      border-left-color: var(--fill-color);\n",
              "    }\n",
              "    20% {\n",
              "      border-color: transparent;\n",
              "      border-left-color: var(--fill-color);\n",
              "      border-top-color: var(--fill-color);\n",
              "    }\n",
              "    30% {\n",
              "      border-color: transparent;\n",
              "      border-left-color: var(--fill-color);\n",
              "      border-top-color: var(--fill-color);\n",
              "      border-right-color: var(--fill-color);\n",
              "    }\n",
              "    40% {\n",
              "      border-color: transparent;\n",
              "      border-right-color: var(--fill-color);\n",
              "      border-top-color: var(--fill-color);\n",
              "    }\n",
              "    60% {\n",
              "      border-color: transparent;\n",
              "      border-right-color: var(--fill-color);\n",
              "    }\n",
              "    80% {\n",
              "      border-color: transparent;\n",
              "      border-right-color: var(--fill-color);\n",
              "      border-bottom-color: var(--fill-color);\n",
              "    }\n",
              "    90% {\n",
              "      border-color: transparent;\n",
              "      border-bottom-color: var(--fill-color);\n",
              "    }\n",
              "  }\n",
              "</style>\n",
              "\n",
              "      <script>\n",
              "        async function quickchart(key) {\n",
              "          const quickchartButtonEl =\n",
              "            document.querySelector('#' + key + ' button');\n",
              "          quickchartButtonEl.disabled = true;  // To prevent multiple clicks.\n",
              "          quickchartButtonEl.classList.add('colab-df-spinner');\n",
              "          try {\n",
              "            const charts = await google.colab.kernel.invokeFunction(\n",
              "                'suggestCharts', [key], {});\n",
              "          } catch (error) {\n",
              "            console.error('Error during call to suggestCharts:', error);\n",
              "          }\n",
              "          quickchartButtonEl.classList.remove('colab-df-spinner');\n",
              "          quickchartButtonEl.classList.add('colab-df-quickchart-complete');\n",
              "        }\n",
              "        (() => {\n",
              "          let quickchartButtonEl =\n",
              "            document.querySelector('#df-e4020a9f-932c-48e6-b2e3-f59b174b9ad7 button');\n",
              "          quickchartButtonEl.style.display =\n",
              "            google.colab.kernel.accessAllowed ? 'block' : 'none';\n",
              "        })();\n",
              "      </script>\n",
              "    </div>\n",
              "\n",
              "    </div>\n",
              "  </div>\n"
            ],
            "application/vnd.google.colaboratory.intrinsic+json": {
              "type": "dataframe",
              "summary": "{\n  \"name\": \"series\",\n  \"rows\": 8,\n  \"fields\": [\n    {\n      \"column\": \"Water\",\n      \"properties\": {\n        \"dtype\": \"number\",\n        \"std\": 216.5175126245199,\n        \"min\": 69.0,\n        \"max\": 662.0,\n        \"num_unique_values\": 8,\n        \"samples\": [\n          500.4782608695652,\n          492.0,\n          69.0\n        ],\n        \"semantic_type\": \"\",\n        \"description\": \"\"\n      }\n    }\n  ]\n}"
            }
          },
          "metadata": {},
          "execution_count": 6
        }
      ]
    },
    {
      "cell_type": "markdown",
      "source": [
        "Some observations from these statistics include:\n",
        "- THe mean is about 500, which we might consider our level in this series.\n",
        "- The standard deviation and perecentiles suggest a reasonable tight spread around the mean."
      ],
      "metadata": {
        "id": "GNPipdLz4l9_"
      }
    },
    {
      "cell_type": "markdown",
      "source": [
        "##### (2) Line Plot"
      ],
      "metadata": {
        "id": "fdSgIvyC4NSA"
      }
    },
    {
      "cell_type": "code",
      "source": [
        "# line plot of time series\n",
        "series.plot()\n",
        "plt.show()"
      ],
      "metadata": {
        "colab": {
          "base_uri": "https://localhost:8080/",
          "height": 449
        },
        "id": "i51Z3BAY4PbI",
        "outputId": "56791f25-e705-4841-fafc-2a9c93a7846b"
      },
      "execution_count": 7,
      "outputs": [
        {
          "output_type": "display_data",
          "data": {
            "text/plain": [
              "<Figure size 640x480 with 1 Axes>"
            ],
            "image/png": "[encoded data removed]"
          },
          "metadata": {}
        }
      ]
    },
    {
      "cell_type": "markdown",
      "source": [
        "Some observations from the plot include:\n",
        "- There looks to be an increasing trend in water usage over time.\n",
        "- There do not appear to be any obvious outliers, although there some some large fluctuations.\n",
        "- There is a downward trend for the last few years of the series.\n",
        "\n",
        "There may be some benefit in explicitly modeling the trend component and removing it. You may also explore using diﬀerencing with one or two levels in order to make the series stationary."
      ],
      "metadata": {
        "id": "b1Umvr-_49V1"
      }
    },
    {
      "cell_type": "markdown",
      "source": [
        "##### (3) Density Plots"
      ],
      "metadata": {
        "id": "SH6xMI7A4P3b"
      }
    },
    {
      "cell_type": "code",
      "source": [
        "# density plots of time series\n",
        "plt.figure()\n",
        "plt.subplot(211)\n",
        "series.hist(ax=plt.gca())\n",
        "plt.subplot(212)\n",
        "series.plot(kind='kde', ax=plt.gca())\n",
        "plt.show()"
      ],
      "metadata": {
        "colab": {
          "base_uri": "https://localhost:8080/",
          "height": 452
        },
        "id": "uyXJpuCi4TD3",
        "outputId": "b3b6abef-59f7-4510-f114-27828c14a243"
      },
      "execution_count": 8,
      "outputs": [
        {
          "output_type": "display_data",
          "data": {
            "text/plain": [
              "<Figure size 640x480 with 2 Axes>"
            ],
            "image/png": "[encoded data removed]"
          },
          "metadata": {}
        }
      ]
    },
    {
      "cell_type": "markdown",
      "source": [
        "Some observations from the plots include:\n",
        "- The distribution is not Gaussian, but is pretty close.\n",
        "- The distribution has a long right tail and may *suggest an exponential distribution or a double Gaussian*.\n",
        "\n",
        "This suggests it may be worth exploring some *power transforms* of the data prior to modeling."
      ],
      "metadata": {
        "id": "zj-rl8oq5qJ8"
      }
    },
    {
      "cell_type": "markdown",
      "source": [
        "##### (4) Box and Whisker Plot\n",
        "\n",
        "We can group the annual data by decade and get an idea of the spread of observations for each decade and how this may be changing. We do expect to see some trend (increasing mean or median), but it may be interesting to see how the rest of the distribution may be changing. The last decade only contains 9 years and may not be a useful\n",
        "comparison with the other decades. Therefore only data between 1885 and 1944 was plotted."
      ],
      "metadata": {
        "id": "h1kx2LLa4Tet"
      }
    },
    {
      "cell_type": "code",
      "source": [
        "# boxplots of time series\n",
        "df = pd.read_csv('dataset.csv', parse_dates=True)\n",
        "df['year'] = pd.to_datetime(df['Year']).dt.year\n",
        "df = df[df['year'] < 1945 ].reset_index(drop=True)\n",
        "decades = list()\n",
        "for i in range(len(df)):\n",
        "  year = df['year'].astype(int).values[i]\n",
        "  if (year >= 1885) & (year < 1895):\n",
        "    decades.append(1885)\n",
        "  elif year < 1905:\n",
        "    decades.append(1895)\n",
        "  elif year < 1915:\n",
        "    decades.append(1905)\n",
        "  elif year < 1925:\n",
        "    decades.append(1915)\n",
        "  elif year < 1935:\n",
        "    decades.append(1925)\n",
        "  elif year < 1945:\n",
        "    decades.append(1935)\n",
        "  else:\n",
        "    assert False, \"Years out of range\"\n",
        "\n",
        "df['decade'] = np.array(decades)\n",
        "groups = df.groupby('decade')\n",
        "decades = pd.DataFrame()\n",
        "for name, group in groups:\n",
        "  decades[name] = group['Water'].astype(float).values\n",
        "decades.boxplot()\n",
        "plt.show()"
      ],
      "metadata": {
        "colab": {
          "base_uri": "https://localhost:8080/",
          "height": 430
        },
        "id": "jYr6V9C34Wdl",
        "outputId": "c35f9538-caa9-435f-aa10-7924944bfd91"
      },
      "execution_count": 9,
      "outputs": [
        {
          "output_type": "display_data",
          "data": {
            "text/plain": [
              "<Figure size 640x480 with 1 Axes>"
            ],
            "image/png": "[encoded data removed]"
          },
          "metadata": {}
        }
      ]
    },
    {
      "cell_type": "markdown",
      "source": [
        "Some observations from reviewing the plot include:\n",
        "- The median values for each year may show an increasing trend that may not be linear.\n",
        "- The spread, or middle 50% of the data, does show some variability.\n",
        "- There maybe outliers in soem decades (crosses outside of the box and whiskers).\n",
        "- The second to last decade seems to have a lower average consumption, perhaps related to the first world war.\n",
        "\n",
        "This yearly view of the data is an interesting avenue and could be pursued further by looking at summary statistics from decade-to-decade and changes in summary statistics."
      ],
      "metadata": {
        "id": "_qM3ELvw8ThV"
      }
    },
    {
      "cell_type": "markdown",
      "source": [
        "#### 5. ARIMA Models\n",
        "\n",
        "##### (1) Manually Configure the ARIMA\n",
        "\n",
        "The `ARIMA(p,d,q)` model requires three parameters and is traditionally configured manually.\n",
        "Analysis of the time series data assumes that we are working with a stationary time series. The time series is likely non-stationary. We can make it stationary by first diﬀerencing the series and using a statistical test to confirm that the result is stationary."
      ],
      "metadata": {
        "id": "fGWSiAnl1c62"
      }
    },
    {
      "cell_type": "code",
      "source": [
        "# create and summarize a stationary version of the time series\n",
        "# create a differenced series\n",
        "def difference(dataset):\n",
        "  diff = list()\n",
        "  for i in range(1, len(dataset)):\n",
        "    value = dataset[i] - dataset[i - 1]\n",
        "    diff.append(value)\n",
        "  return pd.Series(diff)\n",
        "\n",
        "series = pd.read_csv('dataset.csv', index_col=0, parse_dates=True)\n",
        "X = series['Water'].astype(float).values\n",
        "\n",
        "# difference data\n",
        "stationary = difference(X)\n",
        "stationary.index = series.index[1:]\n",
        "\n",
        "# check if stationary\n",
        "result = adfuller(stationary)\n",
        "print(f'ADF Statistic: {result[0]}')\n",
        "print(f'p-value: {result[1]}')\n",
        "print('Critical Values:')\n",
        "for key, value in result[4].items():\n",
        "  print(f'\\t {key}, {value:.3f}')\n",
        "\n",
        "# plot differenced data\n",
        "stationary.plot()\n",
        "plt.show()\n",
        "\n",
        "# save\n",
        "stationary.to_csv('stationary.csv')"
      ],
      "metadata": {
        "colab": {
          "base_uri": "https://localhost:8080/",
          "height": 553
        },
        "id": "Iait9BLj1eX5",
        "outputId": "48511d33-525b-48fa-f9e8-c80571964bc0"
      },
      "execution_count": 10,
      "outputs": [
        {
          "output_type": "stream",
          "name": "stdout",
          "text": [
            "ADF Statistic: -6.126718808474715\n",
            "p-value: 8.593851954694127e-08\n",
            "Critical Values:\n",
            "\t 1%, -3.534\n",
            "\t 5%, -2.906\n",
            "\t 10%, -2.591\n"
          ]
        },
        {
          "output_type": "display_data",
          "data": {
            "text/plain": [
              "<Figure size 640x480 with 1 Axes>"
            ],
            "image/png": "[encoded data removed]"
          },
          "metadata": {}
        }
      ]
    },
    {
      "cell_type": "markdown",
      "source": [
        "The results show that the test statistic value -6.126719 is smaller than the critical value at 1% of -3.534. This suggests that we can reject the null hypothesis with a significance level of less than 1% (i.e. a low probability that the result is a statistical fluke). Rejecting the null hypothesis means that the process has no unit root, and in turn that the time series is stationary or does not have\n",
        "time-dependent structure.\n",
        "\n",
        "This suggests that at least one level of diﬀerencing is required. The d parameter in our ARIMA model should at least be a value of 1. A plot of the diﬀerenced data is also created. It suggests that this has indeed removed the increasing trend.\n",
        "\n",
        "The next first step is to select the lag values for the Autoregression (AR) and Moving Average (MA) parameters, p and q respectively. We can do this by reviewing Autocorrelation Function\n",
        "(ACF) and Partial Autocorrelation Function (PACF) plots."
      ],
      "metadata": {
        "id": "NfaCkFKmhBpR"
      }
    },
    {
      "cell_type": "code",
      "source": [
        "# ACF and PACF plots of the time series\n",
        "series = pd.read_csv('dataset.csv', index_col=0, parse_dates=True)\n",
        "plt.figure()\n",
        "plt.subplot(211)\n",
        "plot_acf(series, lags=20, ax=plt.gca())\n",
        "plt.subplot(212)\n",
        "plot_pacf(series, lags=20, ax=plt.gca())\n",
        "plt.show()"
      ],
      "metadata": {
        "colab": {
          "base_uri": "https://localhost:8080/",
          "height": 452
        },
        "id": "hoRJqGBfkJyb",
        "outputId": "ac1e4dfc-9840-42f4-c558-c7e027beb8b3"
      },
      "execution_count": 11,
      "outputs": [
        {
          "output_type": "display_data",
          "data": {
            "text/plain": [
              "<Figure size 640x480 with 2 Axes>"
            ],
            "image/png": "[encoded data removed]"
          },
          "metadata": {}
        }
      ]
    },
    {
      "cell_type": "markdown",
      "source": [
        "Some observations from the plots:\n",
        "- The ACF shows significant lags to 4 time steps.\n",
        "- The PACF shows significant lags to 1 time step.\n",
        "\n",
        "A good starting point for the p is 4 and q is 1.\n",
        "\n",
        "This quick analysis suggests an ARIMA(4,1,1) on the raw data may be a good starting point."
      ],
      "metadata": {
        "id": "0Jo0z3yylge4"
      }
    },
    {
      "cell_type": "code",
      "source": [
        "# evaluate a manually configured ARIMA model\n",
        "# load data\n",
        "series = pd.read_csv('dataset.csv', index_col=0, parse_dates=True)\n",
        "# prepare data\n",
        "X = series['Water'].astype(float).values\n",
        "train_size = int(len(X) * 0.50)\n",
        "train, test = X[:train_size], X[train_size:]\n",
        "# walk-forward validation\n",
        "history = [x for x in train]\n",
        "predictions = list()\n",
        "for i in range(len(test)):\n",
        "  # predict\n",
        "  model = ARIMA(history, order=(4,1,1))\n",
        "  model_fit = model.fit()\n",
        "  yhat = model_fit.forecast()[0]\n",
        "  predictions.append(yhat)\n",
        "  # observation\n",
        "  obs = test[i]\n",
        "  history.append(obs)\n",
        "  print(f'>Predicted={yhat:.3f}, Expected={obs:.3f}')\n",
        "# report performance\n",
        "rmse = np.sqrt(mean_squared_error(test, predictions))\n",
        "print(f'RMSE: {rmse:.3f}')"
      ],
      "metadata": {
        "colab": {
          "base_uri": "https://localhost:8080/"
        },
        "id": "cAJ_n_EDlwTC",
        "outputId": "e9070378-6d64-45db-e533-4cc046c9293f"
      },
      "execution_count": 12,
      "outputs": [
        {
          "output_type": "stream",
          "name": "stdout",
          "text": [
            ">Predicted=530.101, Expected=503.000\n",
            ">Predicted=511.154, Expected=503.000\n",
            ">Predicted=515.637, Expected=515.000\n",
            ">Predicted=520.904, Expected=522.000\n",
            ">Predicted=525.009, Expected=492.000\n",
            ">Predicted=492.360, Expected=503.000\n",
            ">Predicted=504.664, Expected=503.000\n",
            ">Predicted=512.082, Expected=450.000\n",
            ">Predicted=454.312, Expected=432.000\n",
            ">Predicted=441.329, Expected=432.000\n",
            ">Predicted=452.418, Expected=458.000\n",
            ">Predicted=470.223, Expected=462.000\n",
            ">Predicted=465.860, Expected=503.000\n",
            ">Predicted=498.112, Expected=488.000\n",
            ">Predicted=483.399, Expected=466.000\n",
            ">Predicted=455.128, Expected=492.000\n",
            ">Predicted=492.320, Expected=503.000\n",
            ">Predicted=503.711, Expected=515.000\n",
            ">Predicted=505.815, Expected=500.000\n",
            ">Predicted=493.165, Expected=522.000\n",
            ">Predicted=515.482, Expected=575.000\n",
            ">Predicted=571.332, Expected=583.000\n",
            ">Predicted=568.102, Expected=587.000\n",
            ">Predicted=567.410, Expected=628.000\n",
            ">Predicted=620.638, Expected=640.000\n",
            ">Predicted=632.546, Expected=609.000\n",
            ">Predicted=594.338, Expected=606.000\n",
            ">Predicted=602.108, Expected=632.000\n",
            ">Predicted=637.227, Expected=617.000\n",
            ">Predicted=614.318, Expected=613.000\n",
            ">Predicted=608.755, Expected=598.000\n",
            ">Predicted=600.294, Expected=575.000\n",
            ">Predicted=574.946, Expected=564.000\n",
            ">Predicted=567.577, Expected=549.000\n",
            ">Predicted=553.544, Expected=538.000\n",
            "RMSE: 25.262\n"
          ]
        }
      ]
    },
    {
      "cell_type": "markdown",
      "source": [
        "Running this example results in an RMSE of 25.262, which is higher than the persistence model above."
      ],
      "metadata": {
        "id": "lPLq7_LPmnoe"
      }
    },
    {
      "cell_type": "markdown",
      "source": [
        "##### (2) Automatically Configure the ARIMA\n",
        "\n",
        "The ACF and PACF plots suggest that we cannot do better than a persistence model on this dataset. To confirm this analysis, we can grid search a suite of ARIMA hyperparameters and\n",
        "check that no models result in better out-of-sample RMSE performance.\n",
        "\n",
        "We will also disable the automatic addition of a trend constant from the model by setting the trend argument to `nc` for no constant when calling fit()."
      ],
      "metadata": {
        "id": "Px2DyoWvfV-E"
      }
    },
    {
      "cell_type": "code",
      "source": [
        "# grid search ARIMA parameters for a time series\n",
        "import warnings\n",
        "warnings.filterwarnings('ignore')\n",
        "\n",
        "# evaluate an ARIMA model for a given order (p,d,q) and return RMSE\n",
        "def evaluate_arima_model(X, arima_order):\n",
        "  # prepare training dataset\n",
        "  X = X.astype(float)\n",
        "  train_size = int(len(X) * 0.50)\n",
        "  train, test = X[:train_size], X[train_size:]\n",
        "  history = [x for x in train]\n",
        "  # make predictions\n",
        "  predictions = list()\n",
        "  for i in range(len(test)):\n",
        "    model = ARIMA(history, order=arima_order, trend='n') # disable addition of a trend constant term\n",
        "    model_fit = model.fit()\n",
        "    yhat = model_fit.forecast()[0]\n",
        "    predictions.append(yhat)\n",
        "    history.append(test[i])\n",
        "  # calculate out of sample error\n",
        "  rmse = np.sqrt(mean_squared_error(test, predictions))\n",
        "  return rmse\n",
        "\n",
        "# evaluate combination of p, d and q values for an ARIMA model\n",
        "def evaluate_models(dataset, p_values, d_values, q_values):\n",
        "  dataset = dataset.astype(float)\n",
        "  best_score, best_cfg = float('inf'), None\n",
        "  for p in p_values:\n",
        "    for d in d_values:\n",
        "      for q in q_values:\n",
        "        order = (p, d, q)\n",
        "        try:\n",
        "          rmse = evaluate_arima_model(dataset, order)\n",
        "          if rmse < best_score:\n",
        "            best_score, best_cfg = rmse, order\n",
        "          print(f'ARIMA {order} RMSE={rmse:.3f}')\n",
        "        except:\n",
        "          continue\n",
        "  print(f'Best ARIMA {best_cfg} RMSE={best_score:.3f}')\n",
        "\n",
        "# load dataset\n",
        "series = pd.read_csv('dataset.csv', index_col=0, parse_dates=True)\n",
        "# evaluate parameters\n",
        "p_values = range(0, 3)\n",
        "d_values = range(0, 3)\n",
        "q_values = range(0, 3)\n",
        "evaluate_models(series['Water'].values, p_values, d_values, q_values)"
      ],
      "metadata": {
        "colab": {
          "base_uri": "https://localhost:8080/"
        },
        "id": "j6dAtwwwfYua",
        "outputId": "80bb591c-f6df-49f1-98e3-c61de1072fc6"
      },
      "execution_count": 13,
      "outputs": [
        {
          "output_type": "stream",
          "name": "stdout",
          "text": [
            "ARIMA (0, 0, 0) RMSE=536.978\n",
            "ARIMA (0, 0, 1) RMSE=282.805\n",
            "ARIMA (0, 0, 2) RMSE=183.320\n",
            "ARIMA (0, 1, 0) RMSE=21.975\n",
            "ARIMA (0, 1, 1) RMSE=21.907\n",
            "ARIMA (0, 1, 2) RMSE=22.178\n",
            "ARIMA (0, 2, 0) RMSE=28.992\n",
            "ARIMA (0, 2, 1) RMSE=22.314\n",
            "ARIMA (0, 2, 2) RMSE=22.196\n",
            "ARIMA (1, 0, 0) RMSE=22.154\n",
            "ARIMA (1, 0, 1) RMSE=22.086\n",
            "ARIMA (1, 0, 2) RMSE=22.256\n",
            "ARIMA (1, 1, 0) RMSE=21.921\n",
            "ARIMA (1, 1, 1) RMSE=21.879\n",
            "ARIMA (1, 1, 2) RMSE=23.314\n",
            "ARIMA (1, 2, 0) RMSE=27.464\n",
            "ARIMA (1, 2, 1) RMSE=22.219\n",
            "ARIMA (1, 2, 2) RMSE=22.782\n",
            "ARIMA (2, 0, 0) RMSE=22.100\n",
            "ARIMA (2, 0, 1) RMSE=22.711\n",
            "ARIMA (2, 0, 2) RMSE=22.523\n",
            "ARIMA (2, 1, 0) RMSE=21.732\n",
            "ARIMA (2, 1, 1) RMSE=23.823\n",
            "ARIMA (2, 1, 2) RMSE=27.510\n",
            "ARIMA (2, 2, 0) RMSE=25.282\n",
            "ARIMA (2, 2, 1) RMSE=22.064\n",
            "ARIMA (2, 2, 2) RMSE=23.255\n",
            "Best ARIMA (2, 1, 0) RMSE=21.732\n"
          ]
        }
      ]
    },
    {
      "cell_type": "markdown",
      "source": [
        "The results show that the best configuration discovered was ARIMA(2,1,0) with an RMSE of 21.732, slightly lower than the persistence model tested earlier, but may or may not be significant different."
      ],
      "metadata": {
        "id": "GKedwEAhH4jw"
      }
    },
    {
      "cell_type": "markdown",
      "source": [
        "##### (3) Review Residual Errors\n",
        "\n",
        "A good final check of a model is to review residual forecast errors. *Ideally, the distribution of residual errors should be a Gaussian with a zero mean*. We can check this by using summary statistics and plots to investigate the residual errors from the ARIMA(2,1,0) model."
      ],
      "metadata": {
        "id": "mwFwwdfwfZbc"
      }
    },
    {
      "cell_type": "code",
      "source": [
        "# summarize residual errors for an ARIMA model\n",
        "# load data\n",
        "series = pd.read_csv('dataset.csv', index_col=0, parse_dates=True)\n",
        "# prepare data\n",
        "X = series['Water'].astype(float).values\n",
        "train_size = int(len(X) * 0.50)\n",
        "train, test = X[:train_size], X[train_size:]\n",
        "# walk-forward validation\n",
        "history = [x for x in train]\n",
        "predictions = list()\n",
        "for i in range(len(test)):\n",
        "  # predict\n",
        "  model = ARIMA(history, order=(2,1,0), trend='n')\n",
        "  model_fit = model.fit()\n",
        "  yhat = model_fit.forecast()[0]\n",
        "  predictions.append(yhat)\n",
        "  # observation\n",
        "  obs = test[i]\n",
        "  history.append(obs)\n",
        "# report performance\n",
        "rmse = np.sqrt(mean_squared_error(test, predictions))\n",
        "print(f'RMSE: {rmse:.3f}')\n",
        "# summarize residual errors\n",
        "residuals = [test[i] - predictions[i] for i in range(len(test))]\n",
        "residuals = pd.DataFrame(residuals)\n",
        "print(residuals.describe())\n",
        "plt.figure()\n",
        "plt.subplot(211)\n",
        "residuals.hist(ax=plt.gca())\n",
        "plt.subplot(212)\n",
        "residuals.plot(kind='kde', ax=plt.gca())\n",
        "plt.show()"
      ],
      "metadata": {
        "colab": {
          "base_uri": "https://localhost:8080/",
          "height": 626
        },
        "id": "e2btjHfdfbsn",
        "outputId": "634b7b35-3366-4407-87e7-0d6769851a5e"
      },
      "execution_count": 17,
      "outputs": [
        {
          "output_type": "stream",
          "name": "stdout",
          "text": [
            "RMSE: 21.732\n",
            "               0\n",
            "count  35.000000\n",
            "mean    1.081458\n",
            "std    22.022201\n",
            "min   -52.104849\n",
            "25%   -16.209637\n",
            "50%    -0.454858\n",
            "75%    12.089062\n",
            "max    51.281127\n"
          ]
        },
        {
          "output_type": "display_data",
          "data": {
            "text/plain": [
              "<Figure size 640x480 with 2 Axes>"
            ],
            "image/png": "[encoded data removed]"
          },
          "metadata": {}
        }
      ]
    },
    {
      "cell_type": "markdown",
      "source": [
        "The distribution of residual errors is also plotted. The graphs suggest a Gaussian-like distribution with a longer right tail, providing further evidence that perhaps a power transform\n",
        "might be worth exploring.\n",
        "\n",
        "We could use this information to bias-correct predictions by adding the mean residual error of 1.081458 to each forecast made."
      ],
      "metadata": {
        "id": "0l1qX3BeJ7FM"
      }
    },
    {
      "cell_type": "code",
      "source": [
        "# summarize residual errors from bias corrected forecasts\n",
        "# load data\n",
        "series = pd.read_csv('dataset.csv', index_col=0, parse_dates=True)\n",
        "# prepare data\n",
        "X = series['Water'].astype(float).values\n",
        "train_size = int(len(X) * 0.50)\n",
        "train, test = X[:train_size], X[train_size:]\n",
        "# walk-forward validation\n",
        "history = [x for x in train]\n",
        "predictions = list()\n",
        "bias = 1.081458\n",
        "for i in range(len(test)):\n",
        "  # predict\n",
        "  model = ARIMA(history, order=(2,1,0), trend='n')\n",
        "  model_fit = model.fit()\n",
        "  yhat = model_fit.forecast()[0] + bias\n",
        "  predictions.append(yhat)\n",
        "  # observation\n",
        "  obs = test[i]\n",
        "  history.append(obs)\n",
        "# report performance\n",
        "rmse = np.sqrt(mean_squared_error(test, predictions))\n",
        "print(f'RMSE: {rmse:.3f}')\n",
        "# summarize residual errors\n",
        "residuals = [test[i] - predictions[i] for i in range(len(test))]\n",
        "residuals = pd.DataFrame(residuals)\n",
        "print(residuals.describe())\n",
        "plt.figure()\n",
        "plt.subplot(211)\n",
        "residuals.hist(ax=plt.gca())\n",
        "plt.subplot(212)\n",
        "residuals.plot(kind='kde', ax=plt.gca())\n",
        "plt.show()"
      ],
      "metadata": {
        "colab": {
          "base_uri": "https://localhost:8080/",
          "height": 626
        },
        "id": "q71GLOahKOdn",
        "outputId": "bc66ee80-e18e-4ab9-fad2-6f3de8b24710"
      },
      "execution_count": 18,
      "outputs": [
        {
          "output_type": "stream",
          "name": "stdout",
          "text": [
            "RMSE: 21.705\n",
            "                  0\n",
            "count  3.500000e+01\n",
            "mean  -2.602947e-07\n",
            "std    2.202220e+01\n",
            "min   -5.318631e+01\n",
            "25%   -1.729110e+01\n",
            "50%   -1.536316e+00\n",
            "75%    1.100760e+01\n",
            "max    5.019967e+01\n"
          ]
        },
        {
          "output_type": "display_data",
          "data": {
            "text/plain": [
              "<Figure size 640x480 with 2 Axes>"
            ],
            "image/png": "[encoded data removed]"
          },
          "metadata": {}
        }
      ]
    },
    {
      "cell_type": "markdown",
      "source": [
        "The performance of the predictions is improved very slightly from 21.732 to 21.705, which may or may not be significant. The summary of the forecast residual errors shows that the mean was indeed moved to a value very close to zero. Finally, density plots of the residual error do show a small shift towards zero."
      ],
      "metadata": {
        "id": "nE0-j6uCK_xH"
      }
    },
    {
      "cell_type": "markdown",
      "source": [
        "#### 6. Model Validation\n",
        "\n",
        "#### (1) Finalize Model: Train and save the final model\n",
        "\n",
        "Finalizing the model involves fitting an ARIMA model on the entire dataset. Once fit, the model can be saved to file for later\n",
        "use."
      ],
      "metadata": {
        "id": "eKXsZvXp1fG7"
      }
    },
    {
      "cell_type": "code",
      "source": [
        "# save finalized model to file\n",
        "# load data\n",
        "series = pd.read_csv('dataset.csv', index_col=0, parse_dates=True)\n",
        "# prepare data\n",
        "X = series['Water'].astype(float).values\n",
        "# fit model\n",
        "model = ARIMA(X, order=(2,1,0), trend='n')\n",
        "model_fit = model.fit()\n",
        "# bias constant, could be calculated from in-sample mean residual\n",
        "bias = 1.081458\n",
        "# save model\n",
        "model_fit.save('model.pkl')\n",
        "np.save('model_bias.npy', bias)"
      ],
      "metadata": {
        "id": "VdxtW5l61gzl"
      },
      "execution_count": 19,
      "outputs": []
    },
    {
      "cell_type": "markdown",
      "source": [
        "##### (2) Make Prediction: Load the finalized model and make a prediction"
      ],
      "metadata": {
        "id": "Kl5nS7DHLQXt"
      }
    },
    {
      "cell_type": "code",
      "source": [
        "# load finalized model and make a prediction\n",
        "model_fit_loaded = model_fit.load('model.pkl')\n",
        "bias = np.load('model_bias.npy')\n",
        "yhat = model_fit_loaded.forecast()[0] + bias\n",
        "print(f'Predicted: {yhat:.3f}')"
      ],
      "metadata": {
        "colab": {
          "base_uri": "https://localhost:8080/"
        },
        "id": "2IySgx7cLVQR",
        "outputId": "b1a42774-d2f4-449b-facd-fc9744948486"
      },
      "execution_count": 20,
      "outputs": [
        {
          "output_type": "stream",
          "name": "stdout",
          "text": [
            "Predicted: 540.011\n"
          ]
        }
      ]
    },
    {
      "cell_type": "markdown",
      "source": [
        "If we peek inside validation.csv, we can see that the value on the first row for the next time period is 568. The prediction is in the right ballpark."
      ],
      "metadata": {
        "id": "fIs9_HcoMgqm"
      }
    },
    {
      "cell_type": "markdown",
      "source": [
        "##### (3) Validate Model: Load and validate the final model\n",
        "\n",
        "As with model evaluation in the previous sections, we will make predictions in a rolling-forecast manner. This means that we will step over lead times in the validation dataset and take the observations as an update to the history."
      ],
      "metadata": {
        "id": "Tspyn6ZoLV0S"
      }
    },
    {
      "cell_type": "code",
      "source": [
        "# load and evaluate the finalized model on the validation dataset\n",
        "# load and prepare datasets\n",
        "dataset = pd.read_csv('dataset.csv', index_col=0, parse_dates=True)\n",
        "X = dataset['Water'].astype(float).values\n",
        "history = [x for x in X]\n",
        "validation = pd.read_csv('validation.csv', index_col=0, parse_dates=True)\n",
        "y = validation['Water'].astype(float).values\n",
        "# load model\n",
        "model_fit_loaded = model_fit.load('model.pkl')\n",
        "bias_loaded = np.load('model_bias.npy')\n",
        "# make first prediction\n",
        "predictions = list()\n",
        "yhat = model_fit_loaded.forecast()[0] + bias_loaded\n",
        "predictions.append(yhat)\n",
        "history.append(y[0])\n",
        "print(f'>Predicted={yhat:.3f}, Expected={y[0]:.3f}')\n",
        "# rolling forecasts\n",
        "for i in range(1, len(y)):\n",
        "  # predict\n",
        "  model = ARIMA(history, order=(2,1,0), trend='n')\n",
        "  model_fit = model.fit()\n",
        "  yhat = model_fit.forecast()[0] + bias_loaded\n",
        "  predictions.append(yhat)\n",
        "  # observation\n",
        "  obs = y[i]\n",
        "  history.append(obs)\n",
        "  print(f'>Predicted={yhat:.3f}, Expected={obs:.3f}')\n",
        "# report performance\n",
        "rmse = np.sqrt(mean_squared_error(y, predictions))\n",
        "print(f'RMSE: {rmse:.3f}')\n",
        "plt.plot(y)\n",
        "plt.plot(predictions, color='red')\n",
        "plt.show()"
      ],
      "metadata": {
        "colab": {
          "base_uri": "https://localhost:8080/",
          "height": 621
        },
        "id": "sQa0Yp_CLYfB",
        "outputId": "30e9ddcb-1f24-4932-a7ff-40ed0a8af41d"
      },
      "execution_count": 31,
      "outputs": [
        {
          "output_type": "stream",
          "name": "stdout",
          "text": [
            ">Predicted=540.011, Expected=568.000\n",
            ">Predicted=571.593, Expected=575.000\n",
            ">Predicted=573.292, Expected=579.000\n",
            ">Predicted=579.561, Expected=587.000\n",
            ">Predicted=588.064, Expected=602.000\n",
            ">Predicted=603.025, Expected=594.000\n",
            ">Predicted=593.177, Expected=587.000\n",
            ">Predicted=588.556, Expected=587.000\n",
            ">Predicted=588.796, Expected=625.000\n",
            ">Predicted=627.947, Expected=613.000\n",
            "RMSE: 16.533\n"
          ]
        },
        {
          "output_type": "display_data",
          "data": {
            "text/plain": [
              "<Figure size 640x480 with 1 Axes>"
            ],
            "image/png": "[encoded data removed]"
          },
          "metadata": {}
        }
      ]
    }
  ]
}